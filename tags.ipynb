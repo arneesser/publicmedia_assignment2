{
 "metadata": {
  "language_info": {
   "codemirror_mode": {
    "name": "ipython",
    "version": 3
   },
   "file_extension": ".py",
   "mimetype": "text/x-python",
   "name": "python",
   "nbconvert_exporter": "python",
   "pygments_lexer": "ipython3",
   "version": "3.7.9-final"
  },
  "orig_nbformat": 2,
  "kernelspec": {
   "name": "python3",
   "display_name": "Python 3.7.9 64-bit",
   "metadata": {
    "interpreter": {
     "hash": "04635d289a519a1410467dd0afb0db42f9184808881ca68b2eb5a687a20a5a94"
    }
   }
  }
 },
 "nbformat": 4,
 "nbformat_minor": 2,
 "cells": [
  {
   "cell_type": "code",
   "execution_count": 1,
   "metadata": {},
   "outputs": [
    {
     "output_type": "execute_result",
     "data": {
      "text/plain": [
       "   movieId             title                                       genres  \\\n",
       "0        1  Toy Story (1995)  Adventure|Animation|Children|Comedy|Fantasy   \n",
       "1        1  Toy Story (1995)  Adventure|Animation|Children|Comedy|Fantasy   \n",
       "2        1  Toy Story (1995)  Adventure|Animation|Children|Comedy|Fantasy   \n",
       "3        1  Toy Story (1995)  Adventure|Animation|Children|Comedy|Fantasy   \n",
       "4        1  Toy Story (1995)  Adventure|Animation|Children|Comedy|Fantasy   \n",
       "\n",
       "   userId  rating   timestamp  \n",
       "0       1     4.0   964982703  \n",
       "1       5     4.0   847434962  \n",
       "2       7     4.5  1106635946  \n",
       "3      15     2.5  1510577970  \n",
       "4      17     4.5  1305696483  "
      ],
      "text/html": "<div>\n<style scoped>\n    .dataframe tbody tr th:only-of-type {\n        vertical-align: middle;\n    }\n\n    .dataframe tbody tr th {\n        vertical-align: top;\n    }\n\n    .dataframe thead th {\n        text-align: right;\n    }\n</style>\n<table border=\"1\" class=\"dataframe\">\n  <thead>\n    <tr style=\"text-align: right;\">\n      <th></th>\n      <th>movieId</th>\n      <th>title</th>\n      <th>genres</th>\n      <th>userId</th>\n      <th>rating</th>\n      <th>timestamp</th>\n    </tr>\n  </thead>\n  <tbody>\n    <tr>\n      <th>0</th>\n      <td>1</td>\n      <td>Toy Story (1995)</td>\n      <td>Adventure|Animation|Children|Comedy|Fantasy</td>\n      <td>1</td>\n      <td>4.0</td>\n      <td>964982703</td>\n    </tr>\n    <tr>\n      <th>1</th>\n      <td>1</td>\n      <td>Toy Story (1995)</td>\n      <td>Adventure|Animation|Children|Comedy|Fantasy</td>\n      <td>5</td>\n      <td>4.0</td>\n      <td>847434962</td>\n    </tr>\n    <tr>\n      <th>2</th>\n      <td>1</td>\n      <td>Toy Story (1995)</td>\n      <td>Adventure|Animation|Children|Comedy|Fantasy</td>\n      <td>7</td>\n      <td>4.5</td>\n      <td>1106635946</td>\n    </tr>\n    <tr>\n      <th>3</th>\n      <td>1</td>\n      <td>Toy Story (1995)</td>\n      <td>Adventure|Animation|Children|Comedy|Fantasy</td>\n      <td>15</td>\n      <td>2.5</td>\n      <td>1510577970</td>\n    </tr>\n    <tr>\n      <th>4</th>\n      <td>1</td>\n      <td>Toy Story (1995)</td>\n      <td>Adventure|Animation|Children|Comedy|Fantasy</td>\n      <td>17</td>\n      <td>4.5</td>\n      <td>1305696483</td>\n    </tr>\n  </tbody>\n</table>\n</div>"
     },
     "metadata": {},
     "execution_count": 1
    }
   ],
   "source": [
    "import pandas as pd\n",
    "\n",
    "movies = pd.read_csv(r'data\\movies.csv', low_memory=False)\n",
    "ratings = pd.read_csv(r'data\\ratings.csv', low_memory=False)\n",
    "movie_ratings = pd.merge(movies, ratings)\n",
    "tags = pd.read_csv(r\"data\\tags.csv\", low_memory=False)\n",
    "movie_ratings.head(5)"
   ]
  },
  {
   "cell_type": "code",
   "execution_count": 2,
   "metadata": {},
   "outputs": [
    {
     "output_type": "execute_result",
     "data": {
      "text/plain": [
       "   userId  movieId              tag   timestamp\n",
       "0       2    60756            funny  1445714994\n",
       "1       2    60756  Highly quotable  1445714996\n",
       "2       2    60756     will ferrell  1445714992\n",
       "3       2    89774     Boxing story  1445715207\n",
       "4       2    89774              MMA  1445715200"
      ],
      "text/html": "<div>\n<style scoped>\n    .dataframe tbody tr th:only-of-type {\n        vertical-align: middle;\n    }\n\n    .dataframe tbody tr th {\n        vertical-align: top;\n    }\n\n    .dataframe thead th {\n        text-align: right;\n    }\n</style>\n<table border=\"1\" class=\"dataframe\">\n  <thead>\n    <tr style=\"text-align: right;\">\n      <th></th>\n      <th>userId</th>\n      <th>movieId</th>\n      <th>tag</th>\n      <th>timestamp</th>\n    </tr>\n  </thead>\n  <tbody>\n    <tr>\n      <th>0</th>\n      <td>2</td>\n      <td>60756</td>\n      <td>funny</td>\n      <td>1445714994</td>\n    </tr>\n    <tr>\n      <th>1</th>\n      <td>2</td>\n      <td>60756</td>\n      <td>Highly quotable</td>\n      <td>1445714996</td>\n    </tr>\n    <tr>\n      <th>2</th>\n      <td>2</td>\n      <td>60756</td>\n      <td>will ferrell</td>\n      <td>1445714992</td>\n    </tr>\n    <tr>\n      <th>3</th>\n      <td>2</td>\n      <td>89774</td>\n      <td>Boxing story</td>\n      <td>1445715207</td>\n    </tr>\n    <tr>\n      <th>4</th>\n      <td>2</td>\n      <td>89774</td>\n      <td>MMA</td>\n      <td>1445715200</td>\n    </tr>\n  </tbody>\n</table>\n</div>"
     },
     "metadata": {},
     "execution_count": 2
    }
   ],
   "source": [
    "tags.head()"
   ]
  },
  {
   "cell_type": "code",
   "execution_count": 3,
   "metadata": {},
   "outputs": [],
   "source": [
    "movie_tags = pd.merge(movies, tags, left_on='movieId', right_on='movieId')"
   ]
  },
  {
   "source": [
    "movie_tags.head()"
   ],
   "cell_type": "code",
   "metadata": {},
   "execution_count": 4,
   "outputs": [
    {
     "output_type": "execute_result",
     "data": {
      "text/plain": [
       "   movieId             title                                       genres  \\\n",
       "0        1  Toy Story (1995)  Adventure|Animation|Children|Comedy|Fantasy   \n",
       "1        1  Toy Story (1995)  Adventure|Animation|Children|Comedy|Fantasy   \n",
       "2        1  Toy Story (1995)  Adventure|Animation|Children|Comedy|Fantasy   \n",
       "3        2    Jumanji (1995)                   Adventure|Children|Fantasy   \n",
       "4        2    Jumanji (1995)                   Adventure|Children|Fantasy   \n",
       "\n",
       "   userId               tag   timestamp  \n",
       "0     336             pixar  1139045764  \n",
       "1     474             pixar  1137206825  \n",
       "2     567               fun  1525286013  \n",
       "3      62           fantasy  1528843929  \n",
       "4      62  magic board game  1528843932  "
      ],
      "text/html": "<div>\n<style scoped>\n    .dataframe tbody tr th:only-of-type {\n        vertical-align: middle;\n    }\n\n    .dataframe tbody tr th {\n        vertical-align: top;\n    }\n\n    .dataframe thead th {\n        text-align: right;\n    }\n</style>\n<table border=\"1\" class=\"dataframe\">\n  <thead>\n    <tr style=\"text-align: right;\">\n      <th></th>\n      <th>movieId</th>\n      <th>title</th>\n      <th>genres</th>\n      <th>userId</th>\n      <th>tag</th>\n      <th>timestamp</th>\n    </tr>\n  </thead>\n  <tbody>\n    <tr>\n      <th>0</th>\n      <td>1</td>\n      <td>Toy Story (1995)</td>\n      <td>Adventure|Animation|Children|Comedy|Fantasy</td>\n      <td>336</td>\n      <td>pixar</td>\n      <td>1139045764</td>\n    </tr>\n    <tr>\n      <th>1</th>\n      <td>1</td>\n      <td>Toy Story (1995)</td>\n      <td>Adventure|Animation|Children|Comedy|Fantasy</td>\n      <td>474</td>\n      <td>pixar</td>\n      <td>1137206825</td>\n    </tr>\n    <tr>\n      <th>2</th>\n      <td>1</td>\n      <td>Toy Story (1995)</td>\n      <td>Adventure|Animation|Children|Comedy|Fantasy</td>\n      <td>567</td>\n      <td>fun</td>\n      <td>1525286013</td>\n    </tr>\n    <tr>\n      <th>3</th>\n      <td>2</td>\n      <td>Jumanji (1995)</td>\n      <td>Adventure|Children|Fantasy</td>\n      <td>62</td>\n      <td>fantasy</td>\n      <td>1528843929</td>\n    </tr>\n    <tr>\n      <th>4</th>\n      <td>2</td>\n      <td>Jumanji (1995)</td>\n      <td>Adventure|Children|Fantasy</td>\n      <td>62</td>\n      <td>magic board game</td>\n      <td>1528843932</td>\n    </tr>\n  </tbody>\n</table>\n</div>"
     },
     "metadata": {},
     "execution_count": 4
    }
   ]
  },
  {
   "cell_type": "code",
   "execution_count": 5,
   "metadata": {},
   "outputs": [],
   "source": [
    "smaller_selection = movie_tags.groupby(['title', 'movieId', 'genres']).agg({'tag': lambda x: x.tolist()}).reset_index()  # Implode tags into a single row inside a list\n",
    "smaller_selection['tag'] = smaller_selection.tag.apply(lambda x: str(x).replace('[', ''))\n",
    "smaller_selection['tag'] = smaller_selection.tag.apply(lambda x: str(x).replace(']', ''))"
   ]
  },
  {
   "cell_type": "code",
   "execution_count": 6,
   "metadata": {},
   "outputs": [
    {
     "output_type": "execute_result",
     "data": {
      "text/plain": [
       "                               title  movieId                     genres  \\\n",
       "0        (500) Days of Summer (2009)    69757       Comedy|Drama|Romance   \n",
       "1      ...And Justice for All (1979)     3420             Drama|Thriller   \n",
       "2         10 Cloverfield Lane (2016)   152077                   Thriller   \n",
       "3  10 Things I Hate About You (1999)     2572             Comedy|Romance   \n",
       "4              101 Dalmatians (1996)     1367  Adventure|Children|Comedy   \n",
       "\n",
       "                                                 tag  \n",
       "0  'artistic', 'Funny', 'humorous', 'inspiring', ...  \n",
       "1                                          'lawyers'  \n",
       "2                               'creepy', 'suspense'  \n",
       "3                              'Shakespeare sort of'  \n",
       "4                                   'dogs', 'remake'  "
      ],
      "text/html": "<div>\n<style scoped>\n    .dataframe tbody tr th:only-of-type {\n        vertical-align: middle;\n    }\n\n    .dataframe tbody tr th {\n        vertical-align: top;\n    }\n\n    .dataframe thead th {\n        text-align: right;\n    }\n</style>\n<table border=\"1\" class=\"dataframe\">\n  <thead>\n    <tr style=\"text-align: right;\">\n      <th></th>\n      <th>title</th>\n      <th>movieId</th>\n      <th>genres</th>\n      <th>tag</th>\n    </tr>\n  </thead>\n  <tbody>\n    <tr>\n      <th>0</th>\n      <td>(500) Days of Summer (2009)</td>\n      <td>69757</td>\n      <td>Comedy|Drama|Romance</td>\n      <td>'artistic', 'Funny', 'humorous', 'inspiring', ...</td>\n    </tr>\n    <tr>\n      <th>1</th>\n      <td>...And Justice for All (1979)</td>\n      <td>3420</td>\n      <td>Drama|Thriller</td>\n      <td>'lawyers'</td>\n    </tr>\n    <tr>\n      <th>2</th>\n      <td>10 Cloverfield Lane (2016)</td>\n      <td>152077</td>\n      <td>Thriller</td>\n      <td>'creepy', 'suspense'</td>\n    </tr>\n    <tr>\n      <th>3</th>\n      <td>10 Things I Hate About You (1999)</td>\n      <td>2572</td>\n      <td>Comedy|Romance</td>\n      <td>'Shakespeare sort of'</td>\n    </tr>\n    <tr>\n      <th>4</th>\n      <td>101 Dalmatians (1996)</td>\n      <td>1367</td>\n      <td>Adventure|Children|Comedy</td>\n      <td>'dogs', 'remake'</td>\n    </tr>\n  </tbody>\n</table>\n</div>"
     },
     "metadata": {},
     "execution_count": 6
    }
   ],
   "source": [
    "smaller_selection.head()"
   ]
  },
  {
   "cell_type": "code",
   "execution_count": 7,
   "metadata": {},
   "outputs": [
    {
     "output_type": "execute_result",
     "data": {
      "text/plain": [
       "(1572, 1673)"
      ]
     },
     "metadata": {},
     "execution_count": 7
    }
   ],
   "source": [
    "# import TfidVectorize\n",
    "from sklearn.feature_extraction.text import TfidfVectorizer\n",
    "\n",
    "tfidf = TfidfVectorizer(stop_words='english')\n",
    "\n",
    "smaller_selection['tag'] = smaller_selection['tag'].fillna('')\n",
    "\n",
    "tfidf_matrix = tfidf.fit_transform(smaller_selection['tag'])\n",
    "\n",
    "tfidf_matrix.shape"
   ]
  },
  {
   "cell_type": "code",
   "execution_count": 8,
   "metadata": {},
   "outputs": [],
   "source": [
    "from sklearn.metrics.pairwise import linear_kernel\n",
    "\n",
    "cosine_sim = linear_kernel(tfidf_matrix, tfidf_matrix)"
   ]
  },
  {
   "cell_type": "code",
   "execution_count": 9,
   "metadata": {},
   "outputs": [],
   "source": [
    "indices = pd.Series(smaller_selection.index, index=smaller_selection.title)"
   ]
  },
  {
   "cell_type": "code",
   "execution_count": 10,
   "metadata": {},
   "outputs": [],
   "source": [
    "# based on cosine similarity of tag words. find which movie titles are most similar\n",
    "def get_recommendations(title, cosine_sim=cosine_sim):\n",
    "    # Get the index of the movie that matches the title\n",
    "    idx = indices[title]\n",
    "\n",
    "    # Get the pairwsie similarity scores of all movies with that movie\n",
    "    sim_scores = list(enumerate(cosine_sim[idx]))\n",
    "\n",
    "    # Sort the movies based on the similarity scores\n",
    "    sim_scores = sorted(sim_scores, key=lambda x: x[1], reverse=True)\n",
    "\n",
    "    # Get the scores of the 10 most similar movies\n",
    "    sim_scores = sim_scores[1:11]\n",
    "\n",
    "    # Get the movie indices\n",
    "    movie_indices = [i[0] for i in sim_scores]\n",
    "\n",
    "    # Return the top 10 most similar movies\n",
    "    return smaller_selection.iloc[movie_indices]"
   ]
  },
  {
   "cell_type": "code",
   "execution_count": 18,
   "metadata": {},
   "outputs": [
    {
     "output_type": "execute_result",
     "data": {
      "text/plain": [
       "                                         title  movieId  \\\n",
       "106                  Back to the Future (1985)     1270   \n",
       "107          Back to the Future Part II (1989)     2011   \n",
       "151          Bill & Ted's Bogus Journey (1991)     4980   \n",
       "152    Bill & Ted's Excellent Adventure (1989)     4571   \n",
       "1077                             Primer (2004)     8914   \n",
       "1318                           Stargate (1994)      316   \n",
       "1415                       Time Bandits (1981)     2968   \n",
       "446   Final Fantasy: The Spirits Within (2001)     4446   \n",
       "1373               The Butterfly Effect (2004)     7254   \n",
       "356                          District 9 (2009)    70286   \n",
       "\n",
       "                                  genres  \\\n",
       "106              Adventure|Comedy|Sci-Fi   \n",
       "107              Adventure|Comedy|Sci-Fi   \n",
       "151      Adventure|Comedy|Fantasy|Sci-Fi   \n",
       "152              Adventure|Comedy|Sci-Fi   \n",
       "1077                        Drama|Sci-Fi   \n",
       "1318             Action|Adventure|Sci-Fi   \n",
       "1415     Adventure|Comedy|Fantasy|Sci-Fi   \n",
       "446   Adventure|Animation|Fantasy|Sci-Fi   \n",
       "1373               Drama|Sci-Fi|Thriller   \n",
       "356              Mystery|Sci-Fi|Thriller   \n",
       "\n",
       "                                                    tag  \n",
       "106                                       'time travel'  \n",
       "107                                       'time travel'  \n",
       "151                                       'time travel'  \n",
       "152                                       'time travel'  \n",
       "1077                                      'time travel'  \n",
       "1318                                      'time travel'  \n",
       "1415                                      'time travel'  \n",
       "446                                            'sci-fi'  \n",
       "1373  'alternate reality', 'sci-fi', 'science fictio...  \n",
       "356                                'intelligent sci-fi'  "
      ],
      "text/html": "<div>\n<style scoped>\n    .dataframe tbody tr th:only-of-type {\n        vertical-align: middle;\n    }\n\n    .dataframe tbody tr th {\n        vertical-align: top;\n    }\n\n    .dataframe thead th {\n        text-align: right;\n    }\n</style>\n<table border=\"1\" class=\"dataframe\">\n  <thead>\n    <tr style=\"text-align: right;\">\n      <th></th>\n      <th>title</th>\n      <th>movieId</th>\n      <th>genres</th>\n      <th>tag</th>\n    </tr>\n  </thead>\n  <tbody>\n    <tr>\n      <th>106</th>\n      <td>Back to the Future (1985)</td>\n      <td>1270</td>\n      <td>Adventure|Comedy|Sci-Fi</td>\n      <td>'time travel'</td>\n    </tr>\n    <tr>\n      <th>107</th>\n      <td>Back to the Future Part II (1989)</td>\n      <td>2011</td>\n      <td>Adventure|Comedy|Sci-Fi</td>\n      <td>'time travel'</td>\n    </tr>\n    <tr>\n      <th>151</th>\n      <td>Bill &amp; Ted's Bogus Journey (1991)</td>\n      <td>4980</td>\n      <td>Adventure|Comedy|Fantasy|Sci-Fi</td>\n      <td>'time travel'</td>\n    </tr>\n    <tr>\n      <th>152</th>\n      <td>Bill &amp; Ted's Excellent Adventure (1989)</td>\n      <td>4571</td>\n      <td>Adventure|Comedy|Sci-Fi</td>\n      <td>'time travel'</td>\n    </tr>\n    <tr>\n      <th>1077</th>\n      <td>Primer (2004)</td>\n      <td>8914</td>\n      <td>Drama|Sci-Fi</td>\n      <td>'time travel'</td>\n    </tr>\n    <tr>\n      <th>1318</th>\n      <td>Stargate (1994)</td>\n      <td>316</td>\n      <td>Action|Adventure|Sci-Fi</td>\n      <td>'time travel'</td>\n    </tr>\n    <tr>\n      <th>1415</th>\n      <td>Time Bandits (1981)</td>\n      <td>2968</td>\n      <td>Adventure|Comedy|Fantasy|Sci-Fi</td>\n      <td>'time travel'</td>\n    </tr>\n    <tr>\n      <th>446</th>\n      <td>Final Fantasy: The Spirits Within (2001)</td>\n      <td>4446</td>\n      <td>Adventure|Animation|Fantasy|Sci-Fi</td>\n      <td>'sci-fi'</td>\n    </tr>\n    <tr>\n      <th>1373</th>\n      <td>The Butterfly Effect (2004)</td>\n      <td>7254</td>\n      <td>Drama|Sci-Fi|Thriller</td>\n      <td>'alternate reality', 'sci-fi', 'science fictio...</td>\n    </tr>\n    <tr>\n      <th>356</th>\n      <td>District 9 (2009)</td>\n      <td>70286</td>\n      <td>Mystery|Sci-Fi|Thriller</td>\n      <td>'intelligent sci-fi'</td>\n    </tr>\n  </tbody>\n</table>\n</div>"
     },
     "metadata": {},
     "execution_count": 18
    }
   ],
   "source": [
    "get_recommendations('Interstellar (2014)')"
   ]
  },
  {
   "cell_type": "code",
   "execution_count": 17,
   "metadata": {},
   "outputs": [
    {
     "output_type": "execute_result",
     "data": {
      "text/plain": [
       "array(['black hole', 'sci-fi', 'time-travel', 'Christopher Nolan',\n",
       "       'sci-fi', 'time-travel', 'bad dialogue', 'philosophical issues',\n",
       "       'thought-provoking', 'visually appealing'], dtype=object)"
      ]
     },
     "metadata": {},
     "execution_count": 17
    }
   ],
   "source": [
    "movie_tags[movie_tags.title=='Interstellar (2014)']['tag'].values"
   ]
  },
  {
   "cell_type": "code",
   "execution_count": null,
   "metadata": {},
   "outputs": [],
   "source": []
  }
 ]
}