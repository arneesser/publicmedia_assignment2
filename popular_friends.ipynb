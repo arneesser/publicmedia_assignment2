{
 "metadata": {
  "language_info": {
   "codemirror_mode": {
    "name": "ipython",
    "version": 3
   },
   "file_extension": ".py",
   "mimetype": "text/x-python",
   "name": "python",
   "nbconvert_exporter": "python",
   "pygments_lexer": "ipython3",
   "version": "3.7.9-final"
  },
  "orig_nbformat": 2,
  "kernelspec": {
   "name": "python3",
   "display_name": "Python 3.7.9 64-bit",
   "metadata": {
    "interpreter": {
     "hash": "04635d289a519a1410467dd0afb0db42f9184808881ca68b2eb5a687a20a5a94"
    }
   }
  }
 },
 "nbformat": 4,
 "nbformat_minor": 2,
 "cells": [
  {
   "source": [
    "## Simple recommender based on popularity among Friends"
   ],
   "cell_type": "markdown",
   "metadata": {}
  },
  {
   "cell_type": "code",
   "execution_count": 41,
   "metadata": {},
   "outputs": [],
   "source": [
    "import pandas as pd\n",
    "\n",
    "movies = pd.read_csv(r'data\\movies.csv', low_memory=False)\n",
    "ratings = pd.read_csv(r'data\\ratings.csv', low_memory=False)\n",
    "movie_ratings = pd.merge(movies, ratings)"
   ]
  },
  {
   "cell_type": "code",
   "execution_count": 47,
   "metadata": {},
   "outputs": [],
   "source": [
    "# Additional columns  (Country, Age )\n",
    "movie_ratings['user_country'] = 'user_country'\n",
    "movie_ratings['friend_ids'] = ''\n",
    "movie_ratings['friend_ids'] = movie_ratings[movie_ratings.userId==1].apply(lambda x: [5, 7, 9, 10], axis=1) # Example data for friends "
   ]
  },
  {
   "cell_type": "code",
   "execution_count": 48,
   "metadata": {},
   "outputs": [
    {
     "output_type": "execute_result",
     "data": {
      "text/plain": [
       "   movieId             title                                       genres  \\\n",
       "0        1  Toy Story (1995)  Adventure|Animation|Children|Comedy|Fantasy   \n",
       "1        1  Toy Story (1995)  Adventure|Animation|Children|Comedy|Fantasy   \n",
       "2        1  Toy Story (1995)  Adventure|Animation|Children|Comedy|Fantasy   \n",
       "3        1  Toy Story (1995)  Adventure|Animation|Children|Comedy|Fantasy   \n",
       "4        1  Toy Story (1995)  Adventure|Animation|Children|Comedy|Fantasy   \n",
       "\n",
       "   userId  rating   timestamp  user_country     friend_ids  \n",
       "0       1     4.0   964982703  user_country  [5, 7, 9, 10]  \n",
       "1       5     4.0   847434962  user_country            NaN  \n",
       "2       7     4.5  1106635946  user_country            NaN  \n",
       "3      15     2.5  1510577970  user_country            NaN  \n",
       "4      17     4.5  1305696483  user_country            NaN  "
      ],
      "text/html": "<div>\n<style scoped>\n    .dataframe tbody tr th:only-of-type {\n        vertical-align: middle;\n    }\n\n    .dataframe tbody tr th {\n        vertical-align: top;\n    }\n\n    .dataframe thead th {\n        text-align: right;\n    }\n</style>\n<table border=\"1\" class=\"dataframe\">\n  <thead>\n    <tr style=\"text-align: right;\">\n      <th></th>\n      <th>movieId</th>\n      <th>title</th>\n      <th>genres</th>\n      <th>userId</th>\n      <th>rating</th>\n      <th>timestamp</th>\n      <th>user_country</th>\n      <th>friend_ids</th>\n    </tr>\n  </thead>\n  <tbody>\n    <tr>\n      <th>0</th>\n      <td>1</td>\n      <td>Toy Story (1995)</td>\n      <td>Adventure|Animation|Children|Comedy|Fantasy</td>\n      <td>1</td>\n      <td>4.0</td>\n      <td>964982703</td>\n      <td>user_country</td>\n      <td>[5, 7, 9, 10]</td>\n    </tr>\n    <tr>\n      <th>1</th>\n      <td>1</td>\n      <td>Toy Story (1995)</td>\n      <td>Adventure|Animation|Children|Comedy|Fantasy</td>\n      <td>5</td>\n      <td>4.0</td>\n      <td>847434962</td>\n      <td>user_country</td>\n      <td>NaN</td>\n    </tr>\n    <tr>\n      <th>2</th>\n      <td>1</td>\n      <td>Toy Story (1995)</td>\n      <td>Adventure|Animation|Children|Comedy|Fantasy</td>\n      <td>7</td>\n      <td>4.5</td>\n      <td>1106635946</td>\n      <td>user_country</td>\n      <td>NaN</td>\n    </tr>\n    <tr>\n      <th>3</th>\n      <td>1</td>\n      <td>Toy Story (1995)</td>\n      <td>Adventure|Animation|Children|Comedy|Fantasy</td>\n      <td>15</td>\n      <td>2.5</td>\n      <td>1510577970</td>\n      <td>user_country</td>\n      <td>NaN</td>\n    </tr>\n    <tr>\n      <th>4</th>\n      <td>1</td>\n      <td>Toy Story (1995)</td>\n      <td>Adventure|Animation|Children|Comedy|Fantasy</td>\n      <td>17</td>\n      <td>4.5</td>\n      <td>1305696483</td>\n      <td>user_country</td>\n      <td>NaN</td>\n    </tr>\n  </tbody>\n</table>\n</div>"
     },
     "metadata": {},
     "execution_count": 48
    }
   ],
   "source": [
    "movie_ratings.head()"
   ]
  },
  {
   "cell_type": "code",
   "execution_count": 50,
   "metadata": {},
   "outputs": [
    {
     "output_type": "execute_result",
     "data": {
      "text/plain": [
       "(0.495, 1.4]     4181\n",
       "(1.4, 2.3]       9342\n",
       "(2.3, 3.2]      25597\n",
       "(3.2, 4.1]      39954\n",
       "(4.1, 5.0]      21762\n",
       "Name: rating, dtype: int64"
      ]
     },
     "metadata": {},
     "execution_count": 50
    }
   ],
   "source": [
    "movie_ratings['rating'].value_counts(bins=5).sort_index() # check whether user ratings are valid or not (0.5-5)"
   ]
  },
  {
   "cell_type": "code",
   "execution_count": 157,
   "metadata": {},
   "outputs": [],
   "source": [
    "# Subset for only users that are friends with the target user\n",
    "target_user = 1\n",
    "friends_target_user = movie_ratings[movie_ratings.userId==target_user]['friend_ids']"
   ]
  },
  {
   "cell_type": "code",
   "execution_count": 158,
   "metadata": {},
   "outputs": [],
   "source": [
    "friends_list = friends_target_user.values[0]"
   ]
  },
  {
   "cell_type": "code",
   "execution_count": 159,
   "metadata": {},
   "outputs": [
    {
     "output_type": "execute_result",
     "data": {
      "text/plain": [
       "[5, 7, 9, 10]"
      ]
     },
     "metadata": {},
     "execution_count": 159
    }
   ],
   "source": [
    "friends_list"
   ]
  },
  {
   "cell_type": "code",
   "execution_count": 156,
   "metadata": {},
   "outputs": [],
   "source": [
    "friend_index = friends_list\n",
    "smaller_selection = movie_ratings.loc[movie_ratings['userId'].isin(friend_index)]"
   ]
  },
  {
   "cell_type": "code",
   "execution_count": 132,
   "metadata": {},
   "outputs": [
    {
     "output_type": "execute_result",
     "data": {
      "text/plain": [
       "      movieId                    title  \\\n",
       "1           1         Toy Story (1995)   \n",
       "2           1         Toy Story (1995)   \n",
       "1146       21        Get Shorty (1995)   \n",
       "1679       34              Babe (1995)   \n",
       "1807       36  Dead Man Walking (1995)   \n",
       "\n",
       "                                           genres  userId  rating   timestamp  \\\n",
       "1     Adventure|Animation|Children|Comedy|Fantasy       5     4.0   847434962   \n",
       "2     Adventure|Animation|Children|Comedy|Fantasy       7     4.5  1106635946   \n",
       "1146                        Comedy|Crime|Thriller       5     4.0   847435238   \n",
       "1679                               Children|Drama       5     4.0   847434881   \n",
       "1807                                  Crime|Drama       5     4.0   847435292   \n",
       "\n",
       "      user_country friend_ids  \n",
       "1     user_country        NaN  \n",
       "2     user_country        NaN  \n",
       "1146  user_country        NaN  \n",
       "1679  user_country        NaN  \n",
       "1807  user_country        NaN  "
      ],
      "text/html": "<div>\n<style scoped>\n    .dataframe tbody tr th:only-of-type {\n        vertical-align: middle;\n    }\n\n    .dataframe tbody tr th {\n        vertical-align: top;\n    }\n\n    .dataframe thead th {\n        text-align: right;\n    }\n</style>\n<table border=\"1\" class=\"dataframe\">\n  <thead>\n    <tr style=\"text-align: right;\">\n      <th></th>\n      <th>movieId</th>\n      <th>title</th>\n      <th>genres</th>\n      <th>userId</th>\n      <th>rating</th>\n      <th>timestamp</th>\n      <th>user_country</th>\n      <th>friend_ids</th>\n    </tr>\n  </thead>\n  <tbody>\n    <tr>\n      <th>1</th>\n      <td>1</td>\n      <td>Toy Story (1995)</td>\n      <td>Adventure|Animation|Children|Comedy|Fantasy</td>\n      <td>5</td>\n      <td>4.0</td>\n      <td>847434962</td>\n      <td>user_country</td>\n      <td>NaN</td>\n    </tr>\n    <tr>\n      <th>2</th>\n      <td>1</td>\n      <td>Toy Story (1995)</td>\n      <td>Adventure|Animation|Children|Comedy|Fantasy</td>\n      <td>7</td>\n      <td>4.5</td>\n      <td>1106635946</td>\n      <td>user_country</td>\n      <td>NaN</td>\n    </tr>\n    <tr>\n      <th>1146</th>\n      <td>21</td>\n      <td>Get Shorty (1995)</td>\n      <td>Comedy|Crime|Thriller</td>\n      <td>5</td>\n      <td>4.0</td>\n      <td>847435238</td>\n      <td>user_country</td>\n      <td>NaN</td>\n    </tr>\n    <tr>\n      <th>1679</th>\n      <td>34</td>\n      <td>Babe (1995)</td>\n      <td>Children|Drama</td>\n      <td>5</td>\n      <td>4.0</td>\n      <td>847434881</td>\n      <td>user_country</td>\n      <td>NaN</td>\n    </tr>\n    <tr>\n      <th>1807</th>\n      <td>36</td>\n      <td>Dead Man Walking (1995)</td>\n      <td>Crime|Drama</td>\n      <td>5</td>\n      <td>4.0</td>\n      <td>847435292</td>\n      <td>user_country</td>\n      <td>NaN</td>\n    </tr>\n  </tbody>\n</table>\n</div>"
     },
     "metadata": {},
     "execution_count": 132
    }
   ],
   "source": [
    "smaller_selection.head()"
   ]
  },
  {
   "cell_type": "code",
   "execution_count": 133,
   "metadata": {},
   "outputs": [
    {
     "output_type": "execute_result",
     "data": {
      "text/plain": [
       "                                                    rating\n",
       "title                                                     \n",
       "Heavenly Creatures (1994)                              5.0\n",
       "King's Speech, The (2010)                              5.0\n",
       "Spirited Away (Sen to Chihiro no kamikakushi) (...     5.0\n",
       "Spectre (2015)                                         5.0\n",
       "Snow White and the Seven Dwarfs (1937)                 5.0"
      ],
      "text/html": "<div>\n<style scoped>\n    .dataframe tbody tr th:only-of-type {\n        vertical-align: middle;\n    }\n\n    .dataframe tbody tr th {\n        vertical-align: top;\n    }\n\n    .dataframe thead th {\n        text-align: right;\n    }\n</style>\n<table border=\"1\" class=\"dataframe\">\n  <thead>\n    <tr style=\"text-align: right;\">\n      <th></th>\n      <th>rating</th>\n    </tr>\n    <tr>\n      <th>title</th>\n      <th></th>\n    </tr>\n  </thead>\n  <tbody>\n    <tr>\n      <th>Heavenly Creatures (1994)</th>\n      <td>5.0</td>\n    </tr>\n    <tr>\n      <th>King's Speech, The (2010)</th>\n      <td>5.0</td>\n    </tr>\n    <tr>\n      <th>Spirited Away (Sen to Chihiro no kamikakushi) (2001)</th>\n      <td>5.0</td>\n    </tr>\n    <tr>\n      <th>Spectre (2015)</th>\n      <td>5.0</td>\n    </tr>\n    <tr>\n      <th>Snow White and the Seven Dwarfs (1937)</th>\n      <td>5.0</td>\n    </tr>\n  </tbody>\n</table>\n</div>"
     },
     "metadata": {},
     "execution_count": 133
    }
   ],
   "source": [
    "avg_rating_df = smaller_selection[['title', 'rating']].groupby(['title']).mean()\n",
    "avg_rating_df = avg_rating_df.sort_values('rating', ascending=False)\n",
    "avg_rating_df.head()"
   ]
  },
  {
   "cell_type": "code",
   "execution_count": 134,
   "metadata": {},
   "outputs": [
    {
     "output_type": "execute_result",
     "data": {
      "text/plain": [
       "                                                    vote_average  vote_count\n",
       "title                                                                       \n",
       "Heavenly Creatures (1994)                                    5.0           1\n",
       "King's Speech, The (2010)                                    5.0           1\n",
       "Spirited Away (Sen to Chihiro no kamikakushi) (...           5.0           1\n",
       "Spectre (2015)                                               5.0           1\n",
       "Snow White and the Seven Dwarfs (1937)                       5.0           1"
      ],
      "text/html": "<div>\n<style scoped>\n    .dataframe tbody tr th:only-of-type {\n        vertical-align: middle;\n    }\n\n    .dataframe tbody tr th {\n        vertical-align: top;\n    }\n\n    .dataframe thead th {\n        text-align: right;\n    }\n</style>\n<table border=\"1\" class=\"dataframe\">\n  <thead>\n    <tr style=\"text-align: right;\">\n      <th></th>\n      <th>vote_average</th>\n      <th>vote_count</th>\n    </tr>\n    <tr>\n      <th>title</th>\n      <th></th>\n      <th></th>\n    </tr>\n  </thead>\n  <tbody>\n    <tr>\n      <th>Heavenly Creatures (1994)</th>\n      <td>5.0</td>\n      <td>1</td>\n    </tr>\n    <tr>\n      <th>King's Speech, The (2010)</th>\n      <td>5.0</td>\n      <td>1</td>\n    </tr>\n    <tr>\n      <th>Spirited Away (Sen to Chihiro no kamikakushi) (2001)</th>\n      <td>5.0</td>\n      <td>1</td>\n    </tr>\n    <tr>\n      <th>Spectre (2015)</th>\n      <td>5.0</td>\n      <td>1</td>\n    </tr>\n    <tr>\n      <th>Snow White and the Seven Dwarfs (1937)</th>\n      <td>5.0</td>\n      <td>1</td>\n    </tr>\n  </tbody>\n</table>\n</div>"
     },
     "metadata": {},
     "execution_count": 134
    }
   ],
   "source": [
    "avg_rating_df = smaller_selection.groupby('title')['rating'].agg(['mean', 'count'])\n",
    "avg_rating_df.rename(columns={'mean': 'vote_average', 'count': 'vote_count'}, inplace=True)\n",
    "\n",
    "avg_rating_df.sort_values(by='vote_average', ascending=False).head()"
   ]
  },
  {
   "cell_type": "code",
   "execution_count": 135,
   "metadata": {},
   "outputs": [
    {
     "output_type": "execute_result",
     "data": {
      "text/plain": [
       "                                                    vote_average  vote_count\n",
       "title                                                                       \n",
       "Back to the Future (1985)                                   5.00           2\n",
       "Casino Royale (2006)                                        4.75           2\n",
       "Lord of the Rings: The Two Towers, The (2002)               4.50           3\n",
       "Lord of the Rings: The Fellowship of the Ring, ...          4.50           3\n",
       "Usual Suspects, The (1995)                                  4.25           2"
      ],
      "text/html": "<div>\n<style scoped>\n    .dataframe tbody tr th:only-of-type {\n        vertical-align: middle;\n    }\n\n    .dataframe tbody tr th {\n        vertical-align: top;\n    }\n\n    .dataframe thead th {\n        text-align: right;\n    }\n</style>\n<table border=\"1\" class=\"dataframe\">\n  <thead>\n    <tr style=\"text-align: right;\">\n      <th></th>\n      <th>vote_average</th>\n      <th>vote_count</th>\n    </tr>\n    <tr>\n      <th>title</th>\n      <th></th>\n      <th></th>\n    </tr>\n  </thead>\n  <tbody>\n    <tr>\n      <th>Back to the Future (1985)</th>\n      <td>5.00</td>\n      <td>2</td>\n    </tr>\n    <tr>\n      <th>Casino Royale (2006)</th>\n      <td>4.75</td>\n      <td>2</td>\n    </tr>\n    <tr>\n      <th>Lord of the Rings: The Two Towers, The (2002)</th>\n      <td>4.50</td>\n      <td>3</td>\n    </tr>\n    <tr>\n      <th>Lord of the Rings: The Fellowship of the Ring, The (2001)</th>\n      <td>4.50</td>\n      <td>3</td>\n    </tr>\n    <tr>\n      <th>Usual Suspects, The (1995)</th>\n      <td>4.25</td>\n      <td>2</td>\n    </tr>\n  </tbody>\n</table>\n</div>"
     },
     "metadata": {},
     "execution_count": 135
    }
   ],
   "source": [
    "# C is the mean vote across the whole report\n",
    "C = avg_rating_df['vote_average'].mean()\n",
    "\n",
    "# m is the minimum votes required to be listed\n",
    "m = avg_rating_df['vote_count'].quantile(0.5)\n",
    "q_movies = avg_rating_df.copy().loc[avg_rating_df['vote_count'] > m]\n",
    "q_movies.sort_values(by='vote_average', ascending=False).head()\n"
   ]
  },
  {
   "cell_type": "code",
   "execution_count": 136,
   "metadata": {},
   "outputs": [],
   "source": [
    "def weighted_rating(x, m=m, C=C):\n",
    "    v = x['vote_count']\n",
    "    R = x['vote_average']\n",
    "    return (v/(v+m) * R) + (m/(m+v) * C)"
   ]
  },
  {
   "cell_type": "code",
   "execution_count": 137,
   "metadata": {},
   "outputs": [
    {
     "output_type": "execute_result",
     "data": {
      "text/plain": [
       "                                                    vote_average  vote_count  \\\n",
       "title                                                                          \n",
       "Back to the Future (1985)                                   5.00           2   \n",
       "Casino Royale (2006)                                        4.75           2   \n",
       "Lord of the Rings: The Fellowship of the Ring, ...          4.50           3   \n",
       "Lord of the Rings: The Two Towers, The (2002)               4.50           3   \n",
       "Heavenly Creatures (1994)                                   5.00           1   \n",
       "Psycho (1960)                                               5.00           1   \n",
       "Spectre (2015)                                              5.00           1   \n",
       "Snow White and the Seven Dwarfs (1937)                      5.00           1   \n",
       "Skyfall (2012)                                              5.00           1   \n",
       "First Daughter (2004)                                       5.00           1   \n",
       "\n",
       "                                                       score  \n",
       "title                                                         \n",
       "Back to the Future (1985)                           4.424580  \n",
       "Casino Royale (2006)                                4.257913  \n",
       "Lord of the Rings: The Fellowship of the Ring, ...  4.193435  \n",
       "Lord of the Rings: The Two Towers, The (2002)       4.193435  \n",
       "Heavenly Creatures (1994)                           4.136870  \n",
       "Psycho (1960)                                       4.136870  \n",
       "Spectre (2015)                                      4.136870  \n",
       "Snow White and the Seven Dwarfs (1937)              4.136870  \n",
       "Skyfall (2012)                                      4.136870  \n",
       "First Daughter (2004)                               4.136870  "
      ],
      "text/html": "<div>\n<style scoped>\n    .dataframe tbody tr th:only-of-type {\n        vertical-align: middle;\n    }\n\n    .dataframe tbody tr th {\n        vertical-align: top;\n    }\n\n    .dataframe thead th {\n        text-align: right;\n    }\n</style>\n<table border=\"1\" class=\"dataframe\">\n  <thead>\n    <tr style=\"text-align: right;\">\n      <th></th>\n      <th>vote_average</th>\n      <th>vote_count</th>\n      <th>score</th>\n    </tr>\n    <tr>\n      <th>title</th>\n      <th></th>\n      <th></th>\n      <th></th>\n    </tr>\n  </thead>\n  <tbody>\n    <tr>\n      <th>Back to the Future (1985)</th>\n      <td>5.00</td>\n      <td>2</td>\n      <td>4.424580</td>\n    </tr>\n    <tr>\n      <th>Casino Royale (2006)</th>\n      <td>4.75</td>\n      <td>2</td>\n      <td>4.257913</td>\n    </tr>\n    <tr>\n      <th>Lord of the Rings: The Fellowship of the Ring, The (2001)</th>\n      <td>4.50</td>\n      <td>3</td>\n      <td>4.193435</td>\n    </tr>\n    <tr>\n      <th>Lord of the Rings: The Two Towers, The (2002)</th>\n      <td>4.50</td>\n      <td>3</td>\n      <td>4.193435</td>\n    </tr>\n    <tr>\n      <th>Heavenly Creatures (1994)</th>\n      <td>5.00</td>\n      <td>1</td>\n      <td>4.136870</td>\n    </tr>\n    <tr>\n      <th>Psycho (1960)</th>\n      <td>5.00</td>\n      <td>1</td>\n      <td>4.136870</td>\n    </tr>\n    <tr>\n      <th>Spectre (2015)</th>\n      <td>5.00</td>\n      <td>1</td>\n      <td>4.136870</td>\n    </tr>\n    <tr>\n      <th>Snow White and the Seven Dwarfs (1937)</th>\n      <td>5.00</td>\n      <td>1</td>\n      <td>4.136870</td>\n    </tr>\n    <tr>\n      <th>Skyfall (2012)</th>\n      <td>5.00</td>\n      <td>1</td>\n      <td>4.136870</td>\n    </tr>\n    <tr>\n      <th>First Daughter (2004)</th>\n      <td>5.00</td>\n      <td>1</td>\n      <td>4.136870</td>\n    </tr>\n  </tbody>\n</table>\n</div>"
     },
     "metadata": {},
     "execution_count": 137
    }
   ],
   "source": [
    "avg_rating_df2 = avg_rating_df.copy().loc[avg_rating_df['vote_count'] >= m] # Subset for vote_count above min votes.\n",
    "\n",
    "avg_rating_df2['score'] = avg_rating_df2.apply(weighted_rating, axis=1)\n",
    "\n",
    "avg_rating_df2 = avg_rating_df2.sort_values('score', ascending=False)\n",
    "\n",
    "avg_rating_df2.head(10)"
   ]
  }
 ]
}