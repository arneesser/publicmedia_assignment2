{
 "metadata": {
  "language_info": {
   "codemirror_mode": {
    "name": "ipython",
    "version": 3
   },
   "file_extension": ".py",
   "mimetype": "text/x-python",
   "name": "python",
   "nbconvert_exporter": "python",
   "pygments_lexer": "ipython3",
   "version": "3.7.9-final"
  },
  "orig_nbformat": 2,
  "kernelspec": {
   "name": "python3",
   "display_name": "Python 3.7.9 64-bit",
   "metadata": {
    "interpreter": {
     "hash": "04635d289a519a1410467dd0afb0db42f9184808881ca68b2eb5a687a20a5a94"
    }
   }
  }
 },
 "nbformat": 4,
 "nbformat_minor": 2,
 "cells": [
  {
   "cell_type": "code",
   "execution_count": 1,
   "metadata": {},
   "outputs": [],
   "source": [
    "import pandas as pd\n",
    "\n",
    "movies = pd.read_csv(r'data\\movies.csv', low_memory=False)\n",
    "ratings = pd.read_csv(r'data\\ratings.csv', low_memory=False)\n",
    "movie_ratings = pd.merge(movies, ratings, left_on='movieId', right_on='movieId').drop_duplicates(['userId', 'title'])"
   ]
  },
  {
   "cell_type": "code",
   "execution_count": 2,
   "metadata": {},
   "outputs": [
    {
     "output_type": "execute_result",
     "data": {
      "text/plain": [
       "   movieId             title                                       genres  \\\n",
       "0        1  Toy Story (1995)  Adventure|Animation|Children|Comedy|Fantasy   \n",
       "1        1  Toy Story (1995)  Adventure|Animation|Children|Comedy|Fantasy   \n",
       "2        1  Toy Story (1995)  Adventure|Animation|Children|Comedy|Fantasy   \n",
       "3        1  Toy Story (1995)  Adventure|Animation|Children|Comedy|Fantasy   \n",
       "4        1  Toy Story (1995)  Adventure|Animation|Children|Comedy|Fantasy   \n",
       "\n",
       "   userId  rating   timestamp  \n",
       "0       1     4.0   964982703  \n",
       "1       5     4.0   847434962  \n",
       "2       7     4.5  1106635946  \n",
       "3      15     2.5  1510577970  \n",
       "4      17     4.5  1305696483  "
      ],
      "text/html": "<div>\n<style scoped>\n    .dataframe tbody tr th:only-of-type {\n        vertical-align: middle;\n    }\n\n    .dataframe tbody tr th {\n        vertical-align: top;\n    }\n\n    .dataframe thead th {\n        text-align: right;\n    }\n</style>\n<table border=\"1\" class=\"dataframe\">\n  <thead>\n    <tr style=\"text-align: right;\">\n      <th></th>\n      <th>movieId</th>\n      <th>title</th>\n      <th>genres</th>\n      <th>userId</th>\n      <th>rating</th>\n      <th>timestamp</th>\n    </tr>\n  </thead>\n  <tbody>\n    <tr>\n      <th>0</th>\n      <td>1</td>\n      <td>Toy Story (1995)</td>\n      <td>Adventure|Animation|Children|Comedy|Fantasy</td>\n      <td>1</td>\n      <td>4.0</td>\n      <td>964982703</td>\n    </tr>\n    <tr>\n      <th>1</th>\n      <td>1</td>\n      <td>Toy Story (1995)</td>\n      <td>Adventure|Animation|Children|Comedy|Fantasy</td>\n      <td>5</td>\n      <td>4.0</td>\n      <td>847434962</td>\n    </tr>\n    <tr>\n      <th>2</th>\n      <td>1</td>\n      <td>Toy Story (1995)</td>\n      <td>Adventure|Animation|Children|Comedy|Fantasy</td>\n      <td>7</td>\n      <td>4.5</td>\n      <td>1106635946</td>\n    </tr>\n    <tr>\n      <th>3</th>\n      <td>1</td>\n      <td>Toy Story (1995)</td>\n      <td>Adventure|Animation|Children|Comedy|Fantasy</td>\n      <td>15</td>\n      <td>2.5</td>\n      <td>1510577970</td>\n    </tr>\n    <tr>\n      <th>4</th>\n      <td>1</td>\n      <td>Toy Story (1995)</td>\n      <td>Adventure|Animation|Children|Comedy|Fantasy</td>\n      <td>17</td>\n      <td>4.5</td>\n      <td>1305696483</td>\n    </tr>\n  </tbody>\n</table>\n</div>"
     },
     "metadata": {},
     "execution_count": 2
    }
   ],
   "source": [
    "movie_ratings.head()"
   ]
  },
  {
   "cell_type": "code",
   "execution_count": 3,
   "metadata": {},
   "outputs": [],
   "source": [
    "# make a list\n",
    "movie_ratings2 = movie_ratings.copy()\n",
    "movie_ratings2['genres'] = movie_ratings2.genres.str.split('|').tolist()\n",
    "movie_ratings2 = movie_ratings2[['title', 'genres']] "
   ]
  },
  {
   "cell_type": "code",
   "execution_count": 4,
   "metadata": {},
   "outputs": [
    {
     "output_type": "execute_result",
     "data": {
      "text/plain": [
       "              title                                             genres\n",
       "0  Toy Story (1995)  [Adventure, Animation, Children, Comedy, Fantasy]\n",
       "1  Toy Story (1995)  [Adventure, Animation, Children, Comedy, Fantasy]\n",
       "2  Toy Story (1995)  [Adventure, Animation, Children, Comedy, Fantasy]\n",
       "3  Toy Story (1995)  [Adventure, Animation, Children, Comedy, Fantasy]\n",
       "4  Toy Story (1995)  [Adventure, Animation, Children, Comedy, Fantasy]"
      ],
      "text/html": "<div>\n<style scoped>\n    .dataframe tbody tr th:only-of-type {\n        vertical-align: middle;\n    }\n\n    .dataframe tbody tr th {\n        vertical-align: top;\n    }\n\n    .dataframe thead th {\n        text-align: right;\n    }\n</style>\n<table border=\"1\" class=\"dataframe\">\n  <thead>\n    <tr style=\"text-align: right;\">\n      <th></th>\n      <th>title</th>\n      <th>genres</th>\n    </tr>\n  </thead>\n  <tbody>\n    <tr>\n      <th>0</th>\n      <td>Toy Story (1995)</td>\n      <td>[Adventure, Animation, Children, Comedy, Fantasy]</td>\n    </tr>\n    <tr>\n      <th>1</th>\n      <td>Toy Story (1995)</td>\n      <td>[Adventure, Animation, Children, Comedy, Fantasy]</td>\n    </tr>\n    <tr>\n      <th>2</th>\n      <td>Toy Story (1995)</td>\n      <td>[Adventure, Animation, Children, Comedy, Fantasy]</td>\n    </tr>\n    <tr>\n      <th>3</th>\n      <td>Toy Story (1995)</td>\n      <td>[Adventure, Animation, Children, Comedy, Fantasy]</td>\n    </tr>\n    <tr>\n      <th>4</th>\n      <td>Toy Story (1995)</td>\n      <td>[Adventure, Animation, Children, Comedy, Fantasy]</td>\n    </tr>\n  </tbody>\n</table>\n</div>"
     },
     "metadata": {},
     "execution_count": 4
    }
   ],
   "source": [
    "movie_ratings2.head()"
   ]
  },
  {
   "cell_type": "code",
   "execution_count": 5,
   "metadata": {},
   "outputs": [
    {
     "output_type": "execute_result",
     "data": {
      "text/plain": [
       "              title     genres\n",
       "0  Toy Story (1995)  Adventure\n",
       "0  Toy Story (1995)  Animation\n",
       "0  Toy Story (1995)   Children\n",
       "0  Toy Story (1995)     Comedy\n",
       "0  Toy Story (1995)    Fantasy"
      ],
      "text/html": "<div>\n<style scoped>\n    .dataframe tbody tr th:only-of-type {\n        vertical-align: middle;\n    }\n\n    .dataframe tbody tr th {\n        vertical-align: top;\n    }\n\n    .dataframe thead th {\n        text-align: right;\n    }\n</style>\n<table border=\"1\" class=\"dataframe\">\n  <thead>\n    <tr style=\"text-align: right;\">\n      <th></th>\n      <th>title</th>\n      <th>genres</th>\n    </tr>\n  </thead>\n  <tbody>\n    <tr>\n      <th>0</th>\n      <td>Toy Story (1995)</td>\n      <td>Adventure</td>\n    </tr>\n    <tr>\n      <th>0</th>\n      <td>Toy Story (1995)</td>\n      <td>Animation</td>\n    </tr>\n    <tr>\n      <th>0</th>\n      <td>Toy Story (1995)</td>\n      <td>Children</td>\n    </tr>\n    <tr>\n      <th>0</th>\n      <td>Toy Story (1995)</td>\n      <td>Comedy</td>\n    </tr>\n    <tr>\n      <th>0</th>\n      <td>Toy Story (1995)</td>\n      <td>Fantasy</td>\n    </tr>\n  </tbody>\n</table>\n</div>"
     },
     "metadata": {},
     "execution_count": 5
    }
   ],
   "source": [
    "movie_ratings2 = movie_ratings2.explode('genres')\n",
    "movie_ratings2.head()"
   ]
  },
  {
   "cell_type": "code",
   "execution_count": 6,
   "metadata": {},
   "outputs": [],
   "source": [
    "# crosstab\n",
    "movie_category = pd.crosstab(movie_ratings2['title'], movie_ratings2['genres'])"
   ]
  },
  {
   "cell_type": "code",
   "execution_count": 7,
   "metadata": {},
   "outputs": [
    {
     "output_type": "execute_result",
     "data": {
      "text/plain": [
       "genres                                   (no genres listed)  Action  \\\n",
       "title                                                                 \n",
       "'71 (2014)                                                0       1   \n",
       "'Hellboy': The Seeds of Creation (2004)                   0       1   \n",
       "'Round Midnight (1986)                                    0       0   \n",
       "'Salem's Lot (2004)                                       0       0   \n",
       "'Til There Was You (1997)                                 0       0   \n",
       "\n",
       "genres                                   Adventure  Animation  Children  \\\n",
       "title                                                                     \n",
       "'71 (2014)                                       0          0         0   \n",
       "'Hellboy': The Seeds of Creation (2004)          1          0         0   \n",
       "'Round Midnight (1986)                           0          0         0   \n",
       "'Salem's Lot (2004)                              0          0         0   \n",
       "'Til There Was You (1997)                        0          0         0   \n",
       "\n",
       "genres                                   Comedy  Crime  Documentary  Drama  \\\n",
       "title                                                                        \n",
       "'71 (2014)                                    0      0            0      1   \n",
       "'Hellboy': The Seeds of Creation (2004)       1      0            1      0   \n",
       "'Round Midnight (1986)                        0      0            0      2   \n",
       "'Salem's Lot (2004)                           0      0            0      1   \n",
       "'Til There Was You (1997)                     0      0            0      2   \n",
       "\n",
       "genres                                   Fantasy  Film-Noir  Horror  IMAX  \\\n",
       "title                                                                       \n",
       "'71 (2014)                                     0          0       0     0   \n",
       "'Hellboy': The Seeds of Creation (2004)        1          0       0     0   \n",
       "'Round Midnight (1986)                         0          0       0     0   \n",
       "'Salem's Lot (2004)                            0          0       1     0   \n",
       "'Til There Was You (1997)                      0          0       0     0   \n",
       "\n",
       "genres                                   Musical  Mystery  Romance  Sci-Fi  \\\n",
       "title                                                                        \n",
       "'71 (2014)                                     0        0        0       0   \n",
       "'Hellboy': The Seeds of Creation (2004)        0        0        0       0   \n",
       "'Round Midnight (1986)                         2        0        0       0   \n",
       "'Salem's Lot (2004)                            0        1        0       0   \n",
       "'Til There Was You (1997)                      0        0        2       0   \n",
       "\n",
       "genres                                   Thriller  War  Western  \n",
       "title                                                            \n",
       "'71 (2014)                                      1    1        0  \n",
       "'Hellboy': The Seeds of Creation (2004)         0    0        0  \n",
       "'Round Midnight (1986)                          0    0        0  \n",
       "'Salem's Lot (2004)                             1    0        0  \n",
       "'Til There Was You (1997)                       0    0        0  "
      ],
      "text/html": "<div>\n<style scoped>\n    .dataframe tbody tr th:only-of-type {\n        vertical-align: middle;\n    }\n\n    .dataframe tbody tr th {\n        vertical-align: top;\n    }\n\n    .dataframe thead th {\n        text-align: right;\n    }\n</style>\n<table border=\"1\" class=\"dataframe\">\n  <thead>\n    <tr style=\"text-align: right;\">\n      <th>genres</th>\n      <th>(no genres listed)</th>\n      <th>Action</th>\n      <th>Adventure</th>\n      <th>Animation</th>\n      <th>Children</th>\n      <th>Comedy</th>\n      <th>Crime</th>\n      <th>Documentary</th>\n      <th>Drama</th>\n      <th>Fantasy</th>\n      <th>Film-Noir</th>\n      <th>Horror</th>\n      <th>IMAX</th>\n      <th>Musical</th>\n      <th>Mystery</th>\n      <th>Romance</th>\n      <th>Sci-Fi</th>\n      <th>Thriller</th>\n      <th>War</th>\n      <th>Western</th>\n    </tr>\n    <tr>\n      <th>title</th>\n      <th></th>\n      <th></th>\n      <th></th>\n      <th></th>\n      <th></th>\n      <th></th>\n      <th></th>\n      <th></th>\n      <th></th>\n      <th></th>\n      <th></th>\n      <th></th>\n      <th></th>\n      <th></th>\n      <th></th>\n      <th></th>\n      <th></th>\n      <th></th>\n      <th></th>\n      <th></th>\n    </tr>\n  </thead>\n  <tbody>\n    <tr>\n      <th>'71 (2014)</th>\n      <td>0</td>\n      <td>1</td>\n      <td>0</td>\n      <td>0</td>\n      <td>0</td>\n      <td>0</td>\n      <td>0</td>\n      <td>0</td>\n      <td>1</td>\n      <td>0</td>\n      <td>0</td>\n      <td>0</td>\n      <td>0</td>\n      <td>0</td>\n      <td>0</td>\n      <td>0</td>\n      <td>0</td>\n      <td>1</td>\n      <td>1</td>\n      <td>0</td>\n    </tr>\n    <tr>\n      <th>'Hellboy': The Seeds of Creation (2004)</th>\n      <td>0</td>\n      <td>1</td>\n      <td>1</td>\n      <td>0</td>\n      <td>0</td>\n      <td>1</td>\n      <td>0</td>\n      <td>1</td>\n      <td>0</td>\n      <td>1</td>\n      <td>0</td>\n      <td>0</td>\n      <td>0</td>\n      <td>0</td>\n      <td>0</td>\n      <td>0</td>\n      <td>0</td>\n      <td>0</td>\n      <td>0</td>\n      <td>0</td>\n    </tr>\n    <tr>\n      <th>'Round Midnight (1986)</th>\n      <td>0</td>\n      <td>0</td>\n      <td>0</td>\n      <td>0</td>\n      <td>0</td>\n      <td>0</td>\n      <td>0</td>\n      <td>0</td>\n      <td>2</td>\n      <td>0</td>\n      <td>0</td>\n      <td>0</td>\n      <td>0</td>\n      <td>2</td>\n      <td>0</td>\n      <td>0</td>\n      <td>0</td>\n      <td>0</td>\n      <td>0</td>\n      <td>0</td>\n    </tr>\n    <tr>\n      <th>'Salem's Lot (2004)</th>\n      <td>0</td>\n      <td>0</td>\n      <td>0</td>\n      <td>0</td>\n      <td>0</td>\n      <td>0</td>\n      <td>0</td>\n      <td>0</td>\n      <td>1</td>\n      <td>0</td>\n      <td>0</td>\n      <td>1</td>\n      <td>0</td>\n      <td>0</td>\n      <td>1</td>\n      <td>0</td>\n      <td>0</td>\n      <td>1</td>\n      <td>0</td>\n      <td>0</td>\n    </tr>\n    <tr>\n      <th>'Til There Was You (1997)</th>\n      <td>0</td>\n      <td>0</td>\n      <td>0</td>\n      <td>0</td>\n      <td>0</td>\n      <td>0</td>\n      <td>0</td>\n      <td>0</td>\n      <td>2</td>\n      <td>0</td>\n      <td>0</td>\n      <td>0</td>\n      <td>0</td>\n      <td>0</td>\n      <td>0</td>\n      <td>2</td>\n      <td>0</td>\n      <td>0</td>\n      <td>0</td>\n      <td>0</td>\n    </tr>\n  </tbody>\n</table>\n</div>"
     },
     "metadata": {},
     "execution_count": 7
    }
   ],
   "source": [
    "movie_category.head()"
   ]
  },
  {
   "cell_type": "code",
   "execution_count": 8,
   "metadata": {},
   "outputs": [
    {
     "output_type": "execute_result",
     "data": {
      "text/plain": [
       "array([0.875     , 1.        , 0.66666667, ..., 1.        , 1.        ,\n",
       "       1.        ])"
      ]
     },
     "metadata": {},
     "execution_count": 8
    }
   ],
   "source": [
    "from sklearn.metrics import jaccard_score\n",
    "from scipy.spatial.distance import pdist, squareform\n",
    "\n",
    "# calculate the distances\n",
    "jaccard_distances = pdist(movie_category.values, metric='jaccard')\n",
    "square_jaccard_distances = squareform(jaccard_distances)\n",
    "jaccard_distances"
   ]
  },
  {
   "cell_type": "code",
   "execution_count": 9,
   "metadata": {},
   "outputs": [
    {
     "output_type": "execute_result",
     "data": {
      "text/plain": [
       "array([[1.        , 0.125     , 0.        , ..., 0.        , 0.        ,\n",
       "        0.        ],\n",
       "       [0.125     , 1.        , 0.        , ..., 0.        , 0.        ,\n",
       "        0.16666667],\n",
       "       [0.        , 0.        , 1.        , ..., 0.        , 0.        ,\n",
       "        0.        ],\n",
       "       ...,\n",
       "       [0.        , 0.        , 0.        , ..., 1.        , 0.        ,\n",
       "        0.        ],\n",
       "       [0.        , 0.        , 0.        , ..., 0.        , 1.        ,\n",
       "        0.        ],\n",
       "       [0.        , 0.16666667, 0.        , ..., 0.        , 0.        ,\n",
       "        1.        ]])"
      ]
     },
     "metadata": {},
     "execution_count": 9
    }
   ],
   "source": [
    "# invert\n",
    "jaccard_similarity_array = 1 - square_jaccard_distances\n",
    "jaccard_similarity_array"
   ]
  },
  {
   "cell_type": "code",
   "execution_count": 10,
   "metadata": {},
   "outputs": [
    {
     "output_type": "execute_result",
     "data": {
      "text/plain": [
       "title                                      '71 (2014)  \\\n",
       "title                                                   \n",
       "'71 (2014)                                   1.000000   \n",
       "'Hellboy': The Seeds of Creation (2004)      0.125000   \n",
       "'Round Midnight (1986)                       0.000000   \n",
       "'Salem's Lot (2004)                          0.333333   \n",
       "'Til There Was You (1997)                    0.000000   \n",
       "...                                               ...   \n",
       "eXistenZ (1999)                              0.000000   \n",
       "xXx (2002)                                   0.000000   \n",
       "xXx: State of the Union (2005)               0.000000   \n",
       "¡Three Amigos! (1986)                        0.000000   \n",
       "À nous la liberté (Freedom for Us) (1931)    0.000000   \n",
       "\n",
       "title                                      'Hellboy': The Seeds of Creation (2004)  \\\n",
       "title                                                                                \n",
       "'71 (2014)                                                                0.125000   \n",
       "'Hellboy': The Seeds of Creation (2004)                                   1.000000   \n",
       "'Round Midnight (1986)                                                    0.000000   \n",
       "'Salem's Lot (2004)                                                       0.000000   \n",
       "'Til There Was You (1997)                                                 0.000000   \n",
       "...                                                                            ...   \n",
       "eXistenZ (1999)                                                           0.000000   \n",
       "xXx (2002)                                                                0.000000   \n",
       "xXx: State of the Union (2005)                                            0.000000   \n",
       "¡Three Amigos! (1986)                                                     0.000000   \n",
       "À nous la liberté (Freedom for Us) (1931)                                 0.166667   \n",
       "\n",
       "title                                      'Round Midnight (1986)  \\\n",
       "title                                                               \n",
       "'71 (2014)                                               0.000000   \n",
       "'Hellboy': The Seeds of Creation (2004)                  0.000000   \n",
       "'Round Midnight (1986)                                   1.000000   \n",
       "'Salem's Lot (2004)                                      0.000000   \n",
       "'Til There Was You (1997)                                0.333333   \n",
       "...                                                           ...   \n",
       "eXistenZ (1999)                                          0.000000   \n",
       "xXx (2002)                                               0.000000   \n",
       "xXx: State of the Union (2005)                           0.000000   \n",
       "¡Three Amigos! (1986)                                    0.000000   \n",
       "À nous la liberté (Freedom for Us) (1931)                0.000000   \n",
       "\n",
       "title                                      'Salem's Lot (2004)  \\\n",
       "title                                                            \n",
       "'71 (2014)                                            0.333333   \n",
       "'Hellboy': The Seeds of Creation (2004)               0.000000   \n",
       "'Round Midnight (1986)                                0.000000   \n",
       "'Salem's Lot (2004)                                   1.000000   \n",
       "'Til There Was You (1997)                             0.000000   \n",
       "...                                                        ...   \n",
       "eXistenZ (1999)                                       0.000000   \n",
       "xXx (2002)                                            0.000000   \n",
       "xXx: State of the Union (2005)                        0.000000   \n",
       "¡Three Amigos! (1986)                                 0.000000   \n",
       "À nous la liberté (Freedom for Us) (1931)             0.000000   \n",
       "\n",
       "title                                      'Til There Was You (1997)  \\\n",
       "title                                                                  \n",
       "'71 (2014)                                                  0.000000   \n",
       "'Hellboy': The Seeds of Creation (2004)                     0.000000   \n",
       "'Round Midnight (1986)                                      0.333333   \n",
       "'Salem's Lot (2004)                                         0.000000   \n",
       "'Til There Was You (1997)                                   1.000000   \n",
       "...                                                              ...   \n",
       "eXistenZ (1999)                                             0.000000   \n",
       "xXx (2002)                                                  0.000000   \n",
       "xXx: State of the Union (2005)                              0.000000   \n",
       "¡Three Amigos! (1986)                                       0.000000   \n",
       "À nous la liberté (Freedom for Us) (1931)                   0.000000   \n",
       "\n",
       "title                                      'Tis the Season for Love (2015)  \\\n",
       "title                                                                        \n",
       "'71 (2014)                                                             0.0   \n",
       "'Hellboy': The Seeds of Creation (2004)                                0.0   \n",
       "'Round Midnight (1986)                                                 0.0   \n",
       "'Salem's Lot (2004)                                                    0.0   \n",
       "'Til There Was You (1997)                                              0.0   \n",
       "...                                                                    ...   \n",
       "eXistenZ (1999)                                                        0.0   \n",
       "xXx (2002)                                                             0.0   \n",
       "xXx: State of the Union (2005)                                         0.0   \n",
       "¡Three Amigos! (1986)                                                  0.0   \n",
       "À nous la liberté (Freedom for Us) (1931)                              0.0   \n",
       "\n",
       "title                                      'burbs, The (1989)  \\\n",
       "title                                                           \n",
       "'71 (2014)                                                0.0   \n",
       "'Hellboy': The Seeds of Creation (2004)                   0.0   \n",
       "'Round Midnight (1986)                                    0.0   \n",
       "'Salem's Lot (2004)                                       0.0   \n",
       "'Til There Was You (1997)                                 0.0   \n",
       "...                                                       ...   \n",
       "eXistenZ (1999)                                           0.0   \n",
       "xXx (2002)                                                0.0   \n",
       "xXx: State of the Union (2005)                            0.0   \n",
       "¡Three Amigos! (1986)                                     0.0   \n",
       "À nous la liberté (Freedom for Us) (1931)                 0.0   \n",
       "\n",
       "title                                      'night Mother (1986)  \\\n",
       "title                                                             \n",
       "'71 (2014)                                                 0.25   \n",
       "'Hellboy': The Seeds of Creation (2004)                    0.00   \n",
       "'Round Midnight (1986)                                     0.00   \n",
       "'Salem's Lot (2004)                                        0.25   \n",
       "'Til There Was You (1997)                                  0.00   \n",
       "...                                                         ...   \n",
       "eXistenZ (1999)                                            0.00   \n",
       "xXx (2002)                                                 0.00   \n",
       "xXx: State of the Union (2005)                             0.00   \n",
       "¡Three Amigos! (1986)                                      0.00   \n",
       "À nous la liberté (Freedom for Us) (1931)                  0.00   \n",
       "\n",
       "title                                      (500) Days of Summer (2009)  \\\n",
       "title                                                                    \n",
       "'71 (2014)                                                         0.0   \n",
       "'Hellboy': The Seeds of Creation (2004)                            0.0   \n",
       "'Round Midnight (1986)                                             0.0   \n",
       "'Salem's Lot (2004)                                                0.0   \n",
       "'Til There Was You (1997)                                          0.0   \n",
       "...                                                                ...   \n",
       "eXistenZ (1999)                                                    0.0   \n",
       "xXx (2002)                                                         0.0   \n",
       "xXx: State of the Union (2005)                                     0.0   \n",
       "¡Three Amigos! (1986)                                              0.0   \n",
       "À nous la liberté (Freedom for Us) (1931)                          0.0   \n",
       "\n",
       "title                                      *batteries not included (1987)  \\\n",
       "title                                                                       \n",
       "'71 (2014)                                                            0.0   \n",
       "'Hellboy': The Seeds of Creation (2004)                               0.0   \n",
       "'Round Midnight (1986)                                                0.0   \n",
       "'Salem's Lot (2004)                                                   0.0   \n",
       "'Til There Was You (1997)                                             0.0   \n",
       "...                                                                   ...   \n",
       "eXistenZ (1999)                                                       0.0   \n",
       "xXx (2002)                                                            0.0   \n",
       "xXx: State of the Union (2005)                                        0.0   \n",
       "¡Three Amigos! (1986)                                                 0.0   \n",
       "À nous la liberté (Freedom for Us) (1931)                             0.0   \n",
       "\n",
       "title                                      ...  Zulu (2013)  [REC] (2007)  \\\n",
       "title                                      ...                              \n",
       "'71 (2014)                                 ...          0.4           0.0   \n",
       "'Hellboy': The Seeds of Creation (2004)    ...          0.0           0.0   \n",
       "'Round Midnight (1986)                     ...          0.0           0.0   \n",
       "'Salem's Lot (2004)                        ...          0.4           0.0   \n",
       "'Til There Was You (1997)                  ...          0.0           0.0   \n",
       "...                                        ...          ...           ...   \n",
       "eXistenZ (1999)                            ...          0.0           0.0   \n",
       "xXx (2002)                                 ...          0.0           0.0   \n",
       "xXx: State of the Union (2005)             ...          0.0           0.0   \n",
       "¡Three Amigos! (1986)                      ...          0.0           0.0   \n",
       "À nous la liberté (Freedom for Us) (1931)  ...          0.0           0.0   \n",
       "\n",
       "title                                      [REC]² (2009)  \\\n",
       "title                                                      \n",
       "'71 (2014)                                           0.0   \n",
       "'Hellboy': The Seeds of Creation (2004)              0.0   \n",
       "'Round Midnight (1986)                               0.0   \n",
       "'Salem's Lot (2004)                                  0.0   \n",
       "'Til There Was You (1997)                            0.0   \n",
       "...                                                  ...   \n",
       "eXistenZ (1999)                                      0.0   \n",
       "xXx (2002)                                           0.0   \n",
       "xXx: State of the Union (2005)                       0.0   \n",
       "¡Three Amigos! (1986)                                0.0   \n",
       "À nous la liberté (Freedom for Us) (1931)            0.0   \n",
       "\n",
       "title                                      [REC]³ 3 Génesis (2012)  \\\n",
       "title                                                                \n",
       "'71 (2014)                                                     0.0   \n",
       "'Hellboy': The Seeds of Creation (2004)                        0.0   \n",
       "'Round Midnight (1986)                                         0.0   \n",
       "'Salem's Lot (2004)                                            0.0   \n",
       "'Til There Was You (1997)                                      0.0   \n",
       "...                                                            ...   \n",
       "eXistenZ (1999)                                                0.0   \n",
       "xXx (2002)                                                     0.0   \n",
       "xXx: State of the Union (2005)                                 0.0   \n",
       "¡Three Amigos! (1986)                                          0.0   \n",
       "À nous la liberté (Freedom for Us) (1931)                      0.0   \n",
       "\n",
       "title                                      anohana: The Flower We Saw That Day - The Movie (2013)  \\\n",
       "title                                                                                               \n",
       "'71 (2014)                                                                               0.2        \n",
       "'Hellboy': The Seeds of Creation (2004)                                                  0.0        \n",
       "'Round Midnight (1986)                                                                   0.0        \n",
       "'Salem's Lot (2004)                                                                      0.2        \n",
       "'Til There Was You (1997)                                                                0.0        \n",
       "...                                                                                      ...        \n",
       "eXistenZ (1999)                                                                          0.0        \n",
       "xXx (2002)                                                                               0.0        \n",
       "xXx: State of the Union (2005)                                                           0.0        \n",
       "¡Three Amigos! (1986)                                                                    0.0        \n",
       "À nous la liberté (Freedom for Us) (1931)                                                0.0        \n",
       "\n",
       "title                                      eXistenZ (1999)  xXx (2002)  \\\n",
       "title                                                                    \n",
       "'71 (2014)                                             0.0         0.0   \n",
       "'Hellboy': The Seeds of Creation (2004)                0.0         0.0   \n",
       "'Round Midnight (1986)                                 0.0         0.0   \n",
       "'Salem's Lot (2004)                                    0.0         0.0   \n",
       "'Til There Was You (1997)                              0.0         0.0   \n",
       "...                                                    ...         ...   \n",
       "eXistenZ (1999)                                        1.0         0.0   \n",
       "xXx (2002)                                             0.0         1.0   \n",
       "xXx: State of the Union (2005)                         0.0         0.0   \n",
       "¡Three Amigos! (1986)                                  0.0         0.0   \n",
       "À nous la liberté (Freedom for Us) (1931)              0.0         0.0   \n",
       "\n",
       "title                                      xXx: State of the Union (2005)  \\\n",
       "title                                                                       \n",
       "'71 (2014)                                                            0.0   \n",
       "'Hellboy': The Seeds of Creation (2004)                               0.0   \n",
       "'Round Midnight (1986)                                                0.0   \n",
       "'Salem's Lot (2004)                                                   0.0   \n",
       "'Til There Was You (1997)                                             0.0   \n",
       "...                                                                   ...   \n",
       "eXistenZ (1999)                                                       0.0   \n",
       "xXx (2002)                                                            0.0   \n",
       "xXx: State of the Union (2005)                                        1.0   \n",
       "¡Three Amigos! (1986)                                                 0.0   \n",
       "À nous la liberté (Freedom for Us) (1931)                             0.0   \n",
       "\n",
       "title                                      ¡Three Amigos! (1986)  \\\n",
       "title                                                              \n",
       "'71 (2014)                                                   0.0   \n",
       "'Hellboy': The Seeds of Creation (2004)                      0.0   \n",
       "'Round Midnight (1986)                                       0.0   \n",
       "'Salem's Lot (2004)                                          0.0   \n",
       "'Til There Was You (1997)                                    0.0   \n",
       "...                                                          ...   \n",
       "eXistenZ (1999)                                              0.0   \n",
       "xXx (2002)                                                   0.0   \n",
       "xXx: State of the Union (2005)                               0.0   \n",
       "¡Three Amigos! (1986)                                        1.0   \n",
       "À nous la liberté (Freedom for Us) (1931)                    0.0   \n",
       "\n",
       "title                                      À nous la liberté (Freedom for Us) (1931)  \n",
       "title                                                                                 \n",
       "'71 (2014)                                                                  0.000000  \n",
       "'Hellboy': The Seeds of Creation (2004)                                     0.166667  \n",
       "'Round Midnight (1986)                                                      0.000000  \n",
       "'Salem's Lot (2004)                                                         0.000000  \n",
       "'Til There Was You (1997)                                                   0.000000  \n",
       "...                                                                              ...  \n",
       "eXistenZ (1999)                                                             0.000000  \n",
       "xXx (2002)                                                                  0.000000  \n",
       "xXx: State of the Union (2005)                                              0.000000  \n",
       "¡Three Amigos! (1986)                                                       0.000000  \n",
       "À nous la liberté (Freedom for Us) (1931)                                   1.000000  \n",
       "\n",
       "[9719 rows x 9719 columns]"
      ],
      "text/html": "<div>\n<style scoped>\n    .dataframe tbody tr th:only-of-type {\n        vertical-align: middle;\n    }\n\n    .dataframe tbody tr th {\n        vertical-align: top;\n    }\n\n    .dataframe thead th {\n        text-align: right;\n    }\n</style>\n<table border=\"1\" class=\"dataframe\">\n  <thead>\n    <tr style=\"text-align: right;\">\n      <th>title</th>\n      <th>'71 (2014)</th>\n      <th>'Hellboy': The Seeds of Creation (2004)</th>\n      <th>'Round Midnight (1986)</th>\n      <th>'Salem's Lot (2004)</th>\n      <th>'Til There Was You (1997)</th>\n      <th>'Tis the Season for Love (2015)</th>\n      <th>'burbs, The (1989)</th>\n      <th>'night Mother (1986)</th>\n      <th>(500) Days of Summer (2009)</th>\n      <th>*batteries not included (1987)</th>\n      <th>...</th>\n      <th>Zulu (2013)</th>\n      <th>[REC] (2007)</th>\n      <th>[REC]² (2009)</th>\n      <th>[REC]³ 3 Génesis (2012)</th>\n      <th>anohana: The Flower We Saw That Day - The Movie (2013)</th>\n      <th>eXistenZ (1999)</th>\n      <th>xXx (2002)</th>\n      <th>xXx: State of the Union (2005)</th>\n      <th>¡Three Amigos! (1986)</th>\n      <th>À nous la liberté (Freedom for Us) (1931)</th>\n    </tr>\n    <tr>\n      <th>title</th>\n      <th></th>\n      <th></th>\n      <th></th>\n      <th></th>\n      <th></th>\n      <th></th>\n      <th></th>\n      <th></th>\n      <th></th>\n      <th></th>\n      <th></th>\n      <th></th>\n      <th></th>\n      <th></th>\n      <th></th>\n      <th></th>\n      <th></th>\n      <th></th>\n      <th></th>\n      <th></th>\n      <th></th>\n    </tr>\n  </thead>\n  <tbody>\n    <tr>\n      <th>'71 (2014)</th>\n      <td>1.000000</td>\n      <td>0.125000</td>\n      <td>0.000000</td>\n      <td>0.333333</td>\n      <td>0.000000</td>\n      <td>0.0</td>\n      <td>0.0</td>\n      <td>0.25</td>\n      <td>0.0</td>\n      <td>0.0</td>\n      <td>...</td>\n      <td>0.4</td>\n      <td>0.0</td>\n      <td>0.0</td>\n      <td>0.0</td>\n      <td>0.2</td>\n      <td>0.0</td>\n      <td>0.0</td>\n      <td>0.0</td>\n      <td>0.0</td>\n      <td>0.000000</td>\n    </tr>\n    <tr>\n      <th>'Hellboy': The Seeds of Creation (2004)</th>\n      <td>0.125000</td>\n      <td>1.000000</td>\n      <td>0.000000</td>\n      <td>0.000000</td>\n      <td>0.000000</td>\n      <td>0.0</td>\n      <td>0.0</td>\n      <td>0.00</td>\n      <td>0.0</td>\n      <td>0.0</td>\n      <td>...</td>\n      <td>0.0</td>\n      <td>0.0</td>\n      <td>0.0</td>\n      <td>0.0</td>\n      <td>0.0</td>\n      <td>0.0</td>\n      <td>0.0</td>\n      <td>0.0</td>\n      <td>0.0</td>\n      <td>0.166667</td>\n    </tr>\n    <tr>\n      <th>'Round Midnight (1986)</th>\n      <td>0.000000</td>\n      <td>0.000000</td>\n      <td>1.000000</td>\n      <td>0.000000</td>\n      <td>0.333333</td>\n      <td>0.0</td>\n      <td>0.0</td>\n      <td>0.00</td>\n      <td>0.0</td>\n      <td>0.0</td>\n      <td>...</td>\n      <td>0.0</td>\n      <td>0.0</td>\n      <td>0.0</td>\n      <td>0.0</td>\n      <td>0.0</td>\n      <td>0.0</td>\n      <td>0.0</td>\n      <td>0.0</td>\n      <td>0.0</td>\n      <td>0.000000</td>\n    </tr>\n    <tr>\n      <th>'Salem's Lot (2004)</th>\n      <td>0.333333</td>\n      <td>0.000000</td>\n      <td>0.000000</td>\n      <td>1.000000</td>\n      <td>0.000000</td>\n      <td>0.0</td>\n      <td>0.0</td>\n      <td>0.25</td>\n      <td>0.0</td>\n      <td>0.0</td>\n      <td>...</td>\n      <td>0.4</td>\n      <td>0.0</td>\n      <td>0.0</td>\n      <td>0.0</td>\n      <td>0.2</td>\n      <td>0.0</td>\n      <td>0.0</td>\n      <td>0.0</td>\n      <td>0.0</td>\n      <td>0.000000</td>\n    </tr>\n    <tr>\n      <th>'Til There Was You (1997)</th>\n      <td>0.000000</td>\n      <td>0.000000</td>\n      <td>0.333333</td>\n      <td>0.000000</td>\n      <td>1.000000</td>\n      <td>0.0</td>\n      <td>0.0</td>\n      <td>0.00</td>\n      <td>0.0</td>\n      <td>0.0</td>\n      <td>...</td>\n      <td>0.0</td>\n      <td>0.0</td>\n      <td>0.0</td>\n      <td>0.0</td>\n      <td>0.0</td>\n      <td>0.0</td>\n      <td>0.0</td>\n      <td>0.0</td>\n      <td>0.0</td>\n      <td>0.000000</td>\n    </tr>\n    <tr>\n      <th>...</th>\n      <td>...</td>\n      <td>...</td>\n      <td>...</td>\n      <td>...</td>\n      <td>...</td>\n      <td>...</td>\n      <td>...</td>\n      <td>...</td>\n      <td>...</td>\n      <td>...</td>\n      <td>...</td>\n      <td>...</td>\n      <td>...</td>\n      <td>...</td>\n      <td>...</td>\n      <td>...</td>\n      <td>...</td>\n      <td>...</td>\n      <td>...</td>\n      <td>...</td>\n      <td>...</td>\n    </tr>\n    <tr>\n      <th>eXistenZ (1999)</th>\n      <td>0.000000</td>\n      <td>0.000000</td>\n      <td>0.000000</td>\n      <td>0.000000</td>\n      <td>0.000000</td>\n      <td>0.0</td>\n      <td>0.0</td>\n      <td>0.00</td>\n      <td>0.0</td>\n      <td>0.0</td>\n      <td>...</td>\n      <td>0.0</td>\n      <td>0.0</td>\n      <td>0.0</td>\n      <td>0.0</td>\n      <td>0.0</td>\n      <td>1.0</td>\n      <td>0.0</td>\n      <td>0.0</td>\n      <td>0.0</td>\n      <td>0.000000</td>\n    </tr>\n    <tr>\n      <th>xXx (2002)</th>\n      <td>0.000000</td>\n      <td>0.000000</td>\n      <td>0.000000</td>\n      <td>0.000000</td>\n      <td>0.000000</td>\n      <td>0.0</td>\n      <td>0.0</td>\n      <td>0.00</td>\n      <td>0.0</td>\n      <td>0.0</td>\n      <td>...</td>\n      <td>0.0</td>\n      <td>0.0</td>\n      <td>0.0</td>\n      <td>0.0</td>\n      <td>0.0</td>\n      <td>0.0</td>\n      <td>1.0</td>\n      <td>0.0</td>\n      <td>0.0</td>\n      <td>0.000000</td>\n    </tr>\n    <tr>\n      <th>xXx: State of the Union (2005)</th>\n      <td>0.000000</td>\n      <td>0.000000</td>\n      <td>0.000000</td>\n      <td>0.000000</td>\n      <td>0.000000</td>\n      <td>0.0</td>\n      <td>0.0</td>\n      <td>0.00</td>\n      <td>0.0</td>\n      <td>0.0</td>\n      <td>...</td>\n      <td>0.0</td>\n      <td>0.0</td>\n      <td>0.0</td>\n      <td>0.0</td>\n      <td>0.0</td>\n      <td>0.0</td>\n      <td>0.0</td>\n      <td>1.0</td>\n      <td>0.0</td>\n      <td>0.000000</td>\n    </tr>\n    <tr>\n      <th>¡Three Amigos! (1986)</th>\n      <td>0.000000</td>\n      <td>0.000000</td>\n      <td>0.000000</td>\n      <td>0.000000</td>\n      <td>0.000000</td>\n      <td>0.0</td>\n      <td>0.0</td>\n      <td>0.00</td>\n      <td>0.0</td>\n      <td>0.0</td>\n      <td>...</td>\n      <td>0.0</td>\n      <td>0.0</td>\n      <td>0.0</td>\n      <td>0.0</td>\n      <td>0.0</td>\n      <td>0.0</td>\n      <td>0.0</td>\n      <td>0.0</td>\n      <td>1.0</td>\n      <td>0.000000</td>\n    </tr>\n    <tr>\n      <th>À nous la liberté (Freedom for Us) (1931)</th>\n      <td>0.000000</td>\n      <td>0.166667</td>\n      <td>0.000000</td>\n      <td>0.000000</td>\n      <td>0.000000</td>\n      <td>0.0</td>\n      <td>0.0</td>\n      <td>0.00</td>\n      <td>0.0</td>\n      <td>0.0</td>\n      <td>...</td>\n      <td>0.0</td>\n      <td>0.0</td>\n      <td>0.0</td>\n      <td>0.0</td>\n      <td>0.0</td>\n      <td>0.0</td>\n      <td>0.0</td>\n      <td>0.0</td>\n      <td>0.0</td>\n      <td>1.000000</td>\n    </tr>\n  </tbody>\n</table>\n<p>9719 rows × 9719 columns</p>\n</div>"
     },
     "metadata": {},
     "execution_count": 10
    }
   ],
   "source": [
    "# create a new dataframe with the scores and game titles\n",
    "distance_df = pd.DataFrame(jaccard_similarity_array, index=movie_category.index, columns=movie_category.index)\n",
    "\n",
    "distance_df"
   ]
  },
  {
   "cell_type": "code",
   "execution_count": 20,
   "metadata": {},
   "outputs": [
    {
     "output_type": "execute_result",
     "data": {
      "text/plain": [
       "title\n",
       "Bungo Stray Dogs: Dead Apple (2018)                                            1.000000\n",
       "Superman/Doomsday (2007)                                                       1.000000\n",
       "Street Fighter II: The Animated Movie (Sutorîto Faitâ II gekijô-ban) (1994)    1.000000\n",
       "Mortal Kombat: The Journey Begins (1995)                                       1.000000\n",
       "Ghost in the Shell Arise - Border 1: Ghost Pain (2013)                         0.666667\n",
       "                                                                                 ...   \n",
       "Newton Boys, The (1998)                                                        0.000000\n",
       "Next (2007)                                                                    0.000000\n",
       "Next Best Thing, The (2000)                                                    0.000000\n",
       "Next Friday (2000)                                                             0.000000\n",
       "À nous la liberté (Freedom for Us) (1931)                                      0.000000\n",
       "Name: Bungo Stray Dogs: Dead Apple (2018), Length: 9719, dtype: float64"
      ]
     },
     "metadata": {},
     "execution_count": 20
    }
   ],
   "source": [
    "# search for amovie\n",
    "distance_df['Bungo Stray Dogs: Dead Apple (2018)'].sort_values(ascending=False)"
   ]
  }
 ]
}