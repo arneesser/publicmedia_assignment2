{
 "metadata": {
  "language_info": {
   "codemirror_mode": {
    "name": "ipython",
    "version": 3
   },
   "file_extension": ".py",
   "mimetype": "text/x-python",
   "name": "python",
   "nbconvert_exporter": "python",
   "pygments_lexer": "ipython3",
   "version": "3.7.9-final"
  },
  "orig_nbformat": 2,
  "kernelspec": {
   "name": "python3",
   "display_name": "Python 3.7.9 64-bit",
   "metadata": {
    "interpreter": {
     "hash": "04635d289a519a1410467dd0afb0db42f9184808881ca68b2eb5a687a20a5a94"
    }
   }
  }
 },
 "nbformat": 4,
 "nbformat_minor": 2,
 "cells": [
  {
   "source": [
    "## Simple recommender based on popularity"
   ],
   "cell_type": "markdown",
   "metadata": {}
  },
  {
   "cell_type": "code",
   "execution_count": 11,
   "metadata": {},
   "outputs": [],
   "source": [
    "import pandas as pd\n",
    "\n",
    "movies = pd.read_csv(r'data\\movies.csv', low_memory=False)\n",
    "ratings = pd.read_csv(r'data\\ratings.csv', low_memory=False)\n",
    "movie_ratings = pd.merge(movies, ratings)"
   ]
  },
  {
   "cell_type": "code",
   "execution_count": 12,
   "metadata": {},
   "outputs": [
    {
     "output_type": "execute_result",
     "data": {
      "text/plain": [
       "   movieId             title                                       genres  \\\n",
       "0        1  Toy Story (1995)  Adventure|Animation|Children|Comedy|Fantasy   \n",
       "1        1  Toy Story (1995)  Adventure|Animation|Children|Comedy|Fantasy   \n",
       "2        1  Toy Story (1995)  Adventure|Animation|Children|Comedy|Fantasy   \n",
       "3        1  Toy Story (1995)  Adventure|Animation|Children|Comedy|Fantasy   \n",
       "4        1  Toy Story (1995)  Adventure|Animation|Children|Comedy|Fantasy   \n",
       "\n",
       "   userId  rating   timestamp  user_country  \n",
       "0       1     4.0   964982703  user_country  \n",
       "1       5     4.0   847434962  user_country  \n",
       "2       7     4.5  1106635946  user_country  \n",
       "3      15     2.5  1510577970  user_country  \n",
       "4      17     4.5  1305696483  user_country  "
      ],
      "text/html": "<div>\n<style scoped>\n    .dataframe tbody tr th:only-of-type {\n        vertical-align: middle;\n    }\n\n    .dataframe tbody tr th {\n        vertical-align: top;\n    }\n\n    .dataframe thead th {\n        text-align: right;\n    }\n</style>\n<table border=\"1\" class=\"dataframe\">\n  <thead>\n    <tr style=\"text-align: right;\">\n      <th></th>\n      <th>movieId</th>\n      <th>title</th>\n      <th>genres</th>\n      <th>userId</th>\n      <th>rating</th>\n      <th>timestamp</th>\n      <th>user_country</th>\n    </tr>\n  </thead>\n  <tbody>\n    <tr>\n      <th>0</th>\n      <td>1</td>\n      <td>Toy Story (1995)</td>\n      <td>Adventure|Animation|Children|Comedy|Fantasy</td>\n      <td>1</td>\n      <td>4.0</td>\n      <td>964982703</td>\n      <td>user_country</td>\n    </tr>\n    <tr>\n      <th>1</th>\n      <td>1</td>\n      <td>Toy Story (1995)</td>\n      <td>Adventure|Animation|Children|Comedy|Fantasy</td>\n      <td>5</td>\n      <td>4.0</td>\n      <td>847434962</td>\n      <td>user_country</td>\n    </tr>\n    <tr>\n      <th>2</th>\n      <td>1</td>\n      <td>Toy Story (1995)</td>\n      <td>Adventure|Animation|Children|Comedy|Fantasy</td>\n      <td>7</td>\n      <td>4.5</td>\n      <td>1106635946</td>\n      <td>user_country</td>\n    </tr>\n    <tr>\n      <th>3</th>\n      <td>1</td>\n      <td>Toy Story (1995)</td>\n      <td>Adventure|Animation|Children|Comedy|Fantasy</td>\n      <td>15</td>\n      <td>2.5</td>\n      <td>1510577970</td>\n      <td>user_country</td>\n    </tr>\n    <tr>\n      <th>4</th>\n      <td>1</td>\n      <td>Toy Story (1995)</td>\n      <td>Adventure|Animation|Children|Comedy|Fantasy</td>\n      <td>17</td>\n      <td>4.5</td>\n      <td>1305696483</td>\n      <td>user_country</td>\n    </tr>\n  </tbody>\n</table>\n</div>"
     },
     "metadata": {},
     "execution_count": 12
    }
   ],
   "source": [
    "# Additional columns  (Country, Age )\n",
    "movie_ratings['user_country'] = 'user_country'\n",
    "movie_ratings.head()"
   ]
  },
  {
   "cell_type": "code",
   "execution_count": 3,
   "metadata": {},
   "outputs": [
    {
     "output_type": "execute_result",
     "data": {
      "text/plain": [
       "(0.495, 0.95]     1370\n",
       "(0.95, 1.4]       2811\n",
       "(1.4, 1.85]       1791\n",
       "(1.85, 2.3]       7551\n",
       "(2.3, 2.75]       5550\n",
       "(2.75, 3.2]      20047\n",
       "(3.2, 3.65]      13136\n",
       "(3.65, 4.1]      26818\n",
       "(4.1, 4.55]       8551\n",
       "(4.55, 5.0]      13211\n",
       "Name: rating, dtype: int64"
      ]
     },
     "metadata": {},
     "execution_count": 3
    }
   ],
   "source": [
    "movie_ratings['rating'].value_counts(bins=10).sort_index() # check whether user ratings are valid or not (0.5-5)"
   ]
  },
  {
   "cell_type": "code",
   "execution_count": 4,
   "metadata": {},
   "outputs": [
    {
     "output_type": "execute_result",
     "data": {
      "text/plain": [
       "                                     rating\n",
       "title                                      \n",
       "Gena the Crocodile (1969)               5.0\n",
       "True Stories (1986)                     5.0\n",
       "Cosmic Scrat-tastrophe (2015)           5.0\n",
       "Love and Pigeons (1985)                 5.0\n",
       "Red Sorghum (Hong gao liang) (1987)     5.0"
      ],
      "text/html": "<div>\n<style scoped>\n    .dataframe tbody tr th:only-of-type {\n        vertical-align: middle;\n    }\n\n    .dataframe tbody tr th {\n        vertical-align: top;\n    }\n\n    .dataframe thead th {\n        text-align: right;\n    }\n</style>\n<table border=\"1\" class=\"dataframe\">\n  <thead>\n    <tr style=\"text-align: right;\">\n      <th></th>\n      <th>rating</th>\n    </tr>\n    <tr>\n      <th>title</th>\n      <th></th>\n    </tr>\n  </thead>\n  <tbody>\n    <tr>\n      <th>Gena the Crocodile (1969)</th>\n      <td>5.0</td>\n    </tr>\n    <tr>\n      <th>True Stories (1986)</th>\n      <td>5.0</td>\n    </tr>\n    <tr>\n      <th>Cosmic Scrat-tastrophe (2015)</th>\n      <td>5.0</td>\n    </tr>\n    <tr>\n      <th>Love and Pigeons (1985)</th>\n      <td>5.0</td>\n    </tr>\n    <tr>\n      <th>Red Sorghum (Hong gao liang) (1987)</th>\n      <td>5.0</td>\n    </tr>\n  </tbody>\n</table>\n</div>"
     },
     "metadata": {},
     "execution_count": 4
    }
   ],
   "source": [
    "avg_rating_df = movie_ratings[['title', 'rating']].groupby(['title']).mean()\n",
    "avg_rating_df = avg_rating_df.sort_values('rating', ascending=False)\n",
    "avg_rating_df.head()"
   ]
  },
  {
   "cell_type": "code",
   "execution_count": 5,
   "metadata": {},
   "outputs": [
    {
     "output_type": "execute_result",
     "data": {
      "text/plain": [
       "                                     vote_average  vote_count\n",
       "title                                                        \n",
       "Gena the Crocodile (1969)                     5.0           1\n",
       "True Stories (1986)                           5.0           1\n",
       "Cosmic Scrat-tastrophe (2015)                 5.0           1\n",
       "Love and Pigeons (1985)                       5.0           1\n",
       "Red Sorghum (Hong gao liang) (1987)           5.0           1"
      ],
      "text/html": "<div>\n<style scoped>\n    .dataframe tbody tr th:only-of-type {\n        vertical-align: middle;\n    }\n\n    .dataframe tbody tr th {\n        vertical-align: top;\n    }\n\n    .dataframe thead th {\n        text-align: right;\n    }\n</style>\n<table border=\"1\" class=\"dataframe\">\n  <thead>\n    <tr style=\"text-align: right;\">\n      <th></th>\n      <th>vote_average</th>\n      <th>vote_count</th>\n    </tr>\n    <tr>\n      <th>title</th>\n      <th></th>\n      <th></th>\n    </tr>\n  </thead>\n  <tbody>\n    <tr>\n      <th>Gena the Crocodile (1969)</th>\n      <td>5.0</td>\n      <td>1</td>\n    </tr>\n    <tr>\n      <th>True Stories (1986)</th>\n      <td>5.0</td>\n      <td>1</td>\n    </tr>\n    <tr>\n      <th>Cosmic Scrat-tastrophe (2015)</th>\n      <td>5.0</td>\n      <td>1</td>\n    </tr>\n    <tr>\n      <th>Love and Pigeons (1985)</th>\n      <td>5.0</td>\n      <td>1</td>\n    </tr>\n    <tr>\n      <th>Red Sorghum (Hong gao liang) (1987)</th>\n      <td>5.0</td>\n      <td>1</td>\n    </tr>\n  </tbody>\n</table>\n</div>"
     },
     "metadata": {},
     "execution_count": 5
    }
   ],
   "source": [
    "avg_rating_df = movie_ratings.groupby('title')['rating'].agg(['mean', 'count'])\n",
    "avg_rating_df.rename(columns={'mean': 'vote_average', 'count': 'vote_count'}, inplace=True)\n",
    "\n",
    "avg_rating_df.sort_values(by='vote_average', ascending=False).head()"
   ]
  },
  {
   "cell_type": "code",
   "execution_count": 6,
   "metadata": {},
   "outputs": [
    {
     "output_type": "execute_result",
     "data": {
      "text/plain": [
       "                                                  vote_average  vote_count\n",
       "title                                                                     \n",
       "Trial, The (Procès, Le) (1962)                            4.90           5\n",
       "Adam's Rib (1949)                                         4.75           4\n",
       "Woman in the Dunes (Suna no onna) (1964)                  4.75           4\n",
       "Black Mirror: White Christmas (2014)                      4.75           4\n",
       "Three Billboards Outside Ebbing, Missouri (2017)          4.75           8"
      ],
      "text/html": "<div>\n<style scoped>\n    .dataframe tbody tr th:only-of-type {\n        vertical-align: middle;\n    }\n\n    .dataframe tbody tr th {\n        vertical-align: top;\n    }\n\n    .dataframe thead th {\n        text-align: right;\n    }\n</style>\n<table border=\"1\" class=\"dataframe\">\n  <thead>\n    <tr style=\"text-align: right;\">\n      <th></th>\n      <th>vote_average</th>\n      <th>vote_count</th>\n    </tr>\n    <tr>\n      <th>title</th>\n      <th></th>\n      <th></th>\n    </tr>\n  </thead>\n  <tbody>\n    <tr>\n      <th>Trial, The (Procès, Le) (1962)</th>\n      <td>4.90</td>\n      <td>5</td>\n    </tr>\n    <tr>\n      <th>Adam's Rib (1949)</th>\n      <td>4.75</td>\n      <td>4</td>\n    </tr>\n    <tr>\n      <th>Woman in the Dunes (Suna no onna) (1964)</th>\n      <td>4.75</td>\n      <td>4</td>\n    </tr>\n    <tr>\n      <th>Black Mirror: White Christmas (2014)</th>\n      <td>4.75</td>\n      <td>4</td>\n    </tr>\n    <tr>\n      <th>Three Billboards Outside Ebbing, Missouri (2017)</th>\n      <td>4.75</td>\n      <td>8</td>\n    </tr>\n  </tbody>\n</table>\n</div>"
     },
     "metadata": {},
     "execution_count": 6
    }
   ],
   "source": [
    "# C is the mean vote across the whole report\n",
    "C = avg_rating_df['vote_average'].mean()\n",
    "\n",
    "# m is the minimum votes required to be listed\n",
    "m = avg_rating_df['vote_count'].quantile(0.5)\n",
    "q_movies = avg_rating_df.copy().loc[avg_rating_df['vote_count'] > m]\n",
    "q_movies.sort_values(by='vote_average', ascending=False).head()\n"
   ]
  },
  {
   "cell_type": "code",
   "execution_count": 7,
   "metadata": {},
   "outputs": [],
   "source": [
    "def weighted_rating(x, m=m, C=C):\n",
    "    v = x['vote_count']\n",
    "    R = x['vote_average']\n",
    "    return (v/(v+m) * R) + (m/(m+v) * C)"
   ]
  },
  {
   "cell_type": "code",
   "execution_count": 8,
   "metadata": {},
   "outputs": [
    {
     "output_type": "execute_result",
     "data": {
      "text/plain": [
       "                                                  vote_average  vote_count  \\\n",
       "title                                                                        \n",
       "Shawshank Redemption, The (1994)                      4.429022         317   \n",
       "Three Billboards Outside Ebbing, Missouri (2017)      4.750000           8   \n",
       "Streetcar Named Desire, A (1951)                      4.475000          20   \n",
       "Secrets & Lies (1996)                                 4.590909          11   \n",
       "Trial, The (Procès, Le) (1962)                        4.900000           5   \n",
       "Paths of Glory (1957)                                 4.541667          12   \n",
       "Godfather, The (1972)                                 4.289062         192   \n",
       "Guess Who's Coming to Dinner (1967)                   4.545455          11   \n",
       "Fight Club (1999)                                     4.272936         218   \n",
       "Ran (1985)                                            4.433333          15   \n",
       "\n",
       "                                                     score  \n",
       "title                                                       \n",
       "Shawshank Redemption, The (1994)                  4.418085  \n",
       "Three Billboards Outside Ebbing, Missouri (2017)  4.344288  \n",
       "Streetcar Named Desire, A (1951)                  4.316833  \n",
       "Secrets & Lies (1996)                             4.306226  \n",
       "Trial, The (Procès, Le) (1962)                    4.285896  \n",
       "Paths of Glory (1957)                             4.285811  \n",
       "Godfather, The (1972)                             4.273268  \n",
       "Guess Who's Coming to Dinner (1967)               4.270512  \n",
       "Fight Club (1999)                                 4.259218  \n",
       "Ran (1985)                                        4.238176  "
      ],
      "text/html": "<div>\n<style scoped>\n    .dataframe tbody tr th:only-of-type {\n        vertical-align: middle;\n    }\n\n    .dataframe tbody tr th {\n        vertical-align: top;\n    }\n\n    .dataframe thead th {\n        text-align: right;\n    }\n</style>\n<table border=\"1\" class=\"dataframe\">\n  <thead>\n    <tr style=\"text-align: right;\">\n      <th></th>\n      <th>vote_average</th>\n      <th>vote_count</th>\n      <th>score</th>\n    </tr>\n    <tr>\n      <th>title</th>\n      <th></th>\n      <th></th>\n      <th></th>\n    </tr>\n  </thead>\n  <tbody>\n    <tr>\n      <th>Shawshank Redemption, The (1994)</th>\n      <td>4.429022</td>\n      <td>317</td>\n      <td>4.418085</td>\n    </tr>\n    <tr>\n      <th>Three Billboards Outside Ebbing, Missouri (2017)</th>\n      <td>4.750000</td>\n      <td>8</td>\n      <td>4.344288</td>\n    </tr>\n    <tr>\n      <th>Streetcar Named Desire, A (1951)</th>\n      <td>4.475000</td>\n      <td>20</td>\n      <td>4.316833</td>\n    </tr>\n    <tr>\n      <th>Secrets &amp; Lies (1996)</th>\n      <td>4.590909</td>\n      <td>11</td>\n      <td>4.306226</td>\n    </tr>\n    <tr>\n      <th>Trial, The (Procès, Le) (1962)</th>\n      <td>4.900000</td>\n      <td>5</td>\n      <td>4.285896</td>\n    </tr>\n    <tr>\n      <th>Paths of Glory (1957)</th>\n      <td>4.541667</td>\n      <td>12</td>\n      <td>4.285811</td>\n    </tr>\n    <tr>\n      <th>Godfather, The (1972)</th>\n      <td>4.289062</td>\n      <td>192</td>\n      <td>4.273268</td>\n    </tr>\n    <tr>\n      <th>Guess Who's Coming to Dinner (1967)</th>\n      <td>4.545455</td>\n      <td>11</td>\n      <td>4.270512</td>\n    </tr>\n    <tr>\n      <th>Fight Club (1999)</th>\n      <td>4.272936</td>\n      <td>218</td>\n      <td>4.259218</td>\n    </tr>\n    <tr>\n      <th>Ran (1985)</th>\n      <td>4.433333</td>\n      <td>15</td>\n      <td>4.238176</td>\n    </tr>\n  </tbody>\n</table>\n</div>"
     },
     "metadata": {},
     "execution_count": 8
    }
   ],
   "source": [
    "avg_rating_df2 = avg_rating_df.copy().loc[avg_rating_df['vote_count'] >= m] # Subset for vote_count above min votes.\n",
    "\n",
    "avg_rating_df2['score'] = avg_rating_df2.apply(weighted_rating, axis=1)\n",
    "\n",
    "avg_rating_df2 = avg_rating_df2.sort_values('score', ascending=False)\n",
    "\n",
    "avg_rating_df2.head(10)"
   ]
  },
  {
   "cell_type": "code",
   "execution_count": null,
   "metadata": {},
   "outputs": [],
   "source": []
  }
 ]
}