{
 "metadata": {
  "language_info": {
   "codemirror_mode": {
    "name": "ipython",
    "version": 3
   },
   "file_extension": ".py",
   "mimetype": "text/x-python",
   "name": "python",
   "nbconvert_exporter": "python",
   "pygments_lexer": "ipython3",
   "version": "3.7.9-final"
  },
  "orig_nbformat": 2,
  "kernelspec": {
   "name": "python3",
   "display_name": "Python 3.7.9 64-bit",
   "metadata": {
    "interpreter": {
     "hash": "04635d289a519a1410467dd0afb0db42f9184808881ca68b2eb5a687a20a5a94"
    }
   }
  }
 },
 "nbformat": 4,
 "nbformat_minor": 2,
 "cells": [
  {
   "cell_type": "code",
   "execution_count": 4,
   "metadata": {},
   "outputs": [
    {
     "output_type": "execute_result",
     "data": {
      "text/plain": [
       "   movieId             title                                       genres  \\\n",
       "0        1  Toy Story (1995)  Adventure|Animation|Children|Comedy|Fantasy   \n",
       "1        1  Toy Story (1995)  Adventure|Animation|Children|Comedy|Fantasy   \n",
       "2        1  Toy Story (1995)  Adventure|Animation|Children|Comedy|Fantasy   \n",
       "3        1  Toy Story (1995)  Adventure|Animation|Children|Comedy|Fantasy   \n",
       "4        1  Toy Story (1995)  Adventure|Animation|Children|Comedy|Fantasy   \n",
       "\n",
       "   userId  rating   timestamp  \n",
       "0       1     4.0   964982703  \n",
       "1       5     4.0   847434962  \n",
       "2       7     4.5  1106635946  \n",
       "3      15     2.5  1510577970  \n",
       "4      17     4.5  1305696483  "
      ],
      "text/html": "<div>\n<style scoped>\n    .dataframe tbody tr th:only-of-type {\n        vertical-align: middle;\n    }\n\n    .dataframe tbody tr th {\n        vertical-align: top;\n    }\n\n    .dataframe thead th {\n        text-align: right;\n    }\n</style>\n<table border=\"1\" class=\"dataframe\">\n  <thead>\n    <tr style=\"text-align: right;\">\n      <th></th>\n      <th>movieId</th>\n      <th>title</th>\n      <th>genres</th>\n      <th>userId</th>\n      <th>rating</th>\n      <th>timestamp</th>\n    </tr>\n  </thead>\n  <tbody>\n    <tr>\n      <th>0</th>\n      <td>1</td>\n      <td>Toy Story (1995)</td>\n      <td>Adventure|Animation|Children|Comedy|Fantasy</td>\n      <td>1</td>\n      <td>4.0</td>\n      <td>964982703</td>\n    </tr>\n    <tr>\n      <th>1</th>\n      <td>1</td>\n      <td>Toy Story (1995)</td>\n      <td>Adventure|Animation|Children|Comedy|Fantasy</td>\n      <td>5</td>\n      <td>4.0</td>\n      <td>847434962</td>\n    </tr>\n    <tr>\n      <th>2</th>\n      <td>1</td>\n      <td>Toy Story (1995)</td>\n      <td>Adventure|Animation|Children|Comedy|Fantasy</td>\n      <td>7</td>\n      <td>4.5</td>\n      <td>1106635946</td>\n    </tr>\n    <tr>\n      <th>3</th>\n      <td>1</td>\n      <td>Toy Story (1995)</td>\n      <td>Adventure|Animation|Children|Comedy|Fantasy</td>\n      <td>15</td>\n      <td>2.5</td>\n      <td>1510577970</td>\n    </tr>\n    <tr>\n      <th>4</th>\n      <td>1</td>\n      <td>Toy Story (1995)</td>\n      <td>Adventure|Animation|Children|Comedy|Fantasy</td>\n      <td>17</td>\n      <td>4.5</td>\n      <td>1305696483</td>\n    </tr>\n  </tbody>\n</table>\n</div>"
     },
     "metadata": {},
     "execution_count": 4
    }
   ],
   "source": [
    "import pandas as pd\n",
    "import os \n",
    "os.chdir(r'C:\\Users\\Arne\\Documents\\DataScience\\Personalisation-for-Media\\assignment2')\n",
    "movies = pd.read_csv(r'data\\movies.csv', low_memory=False)\n",
    "ratings = pd.read_csv(r'data\\ratings.csv', low_memory=False)\n",
    "movie_ratings = pd.merge(movies, ratings)\n",
    "movie_ratings.head(5)"
   ]
  },
  {
   "cell_type": "code",
   "execution_count": 5,
   "metadata": {},
   "outputs": [],
   "source": [
    "# additional column for watchtime if user rating is absent after watching a movie\n",
    "movie_ratings['watch_duration'] = ''"
   ]
  },
  {
   "cell_type": "code",
   "execution_count": 6,
   "metadata": {},
   "outputs": [
    {
     "output_type": "execute_result",
     "data": {
      "text/plain": [
       "   movieId             title                                       genres  \\\n",
       "0        1  Toy Story (1995)  Adventure|Animation|Children|Comedy|Fantasy   \n",
       "1        1  Toy Story (1995)  Adventure|Animation|Children|Comedy|Fantasy   \n",
       "2        1  Toy Story (1995)  Adventure|Animation|Children|Comedy|Fantasy   \n",
       "3        1  Toy Story (1995)  Adventure|Animation|Children|Comedy|Fantasy   \n",
       "4        1  Toy Story (1995)  Adventure|Animation|Children|Comedy|Fantasy   \n",
       "\n",
       "   userId  rating   timestamp watch_duration  \n",
       "0       1     4.0   964982703                 \n",
       "1       5     4.0   847434962                 \n",
       "2       7     4.5  1106635946                 \n",
       "3      15     2.5  1510577970                 \n",
       "4      17     4.5  1305696483                 "
      ],
      "text/html": "<div>\n<style scoped>\n    .dataframe tbody tr th:only-of-type {\n        vertical-align: middle;\n    }\n\n    .dataframe tbody tr th {\n        vertical-align: top;\n    }\n\n    .dataframe thead th {\n        text-align: right;\n    }\n</style>\n<table border=\"1\" class=\"dataframe\">\n  <thead>\n    <tr style=\"text-align: right;\">\n      <th></th>\n      <th>movieId</th>\n      <th>title</th>\n      <th>genres</th>\n      <th>userId</th>\n      <th>rating</th>\n      <th>timestamp</th>\n      <th>watch_duration</th>\n    </tr>\n  </thead>\n  <tbody>\n    <tr>\n      <th>0</th>\n      <td>1</td>\n      <td>Toy Story (1995)</td>\n      <td>Adventure|Animation|Children|Comedy|Fantasy</td>\n      <td>1</td>\n      <td>4.0</td>\n      <td>964982703</td>\n      <td></td>\n    </tr>\n    <tr>\n      <th>1</th>\n      <td>1</td>\n      <td>Toy Story (1995)</td>\n      <td>Adventure|Animation|Children|Comedy|Fantasy</td>\n      <td>5</td>\n      <td>4.0</td>\n      <td>847434962</td>\n      <td></td>\n    </tr>\n    <tr>\n      <th>2</th>\n      <td>1</td>\n      <td>Toy Story (1995)</td>\n      <td>Adventure|Animation|Children|Comedy|Fantasy</td>\n      <td>7</td>\n      <td>4.5</td>\n      <td>1106635946</td>\n      <td></td>\n    </tr>\n    <tr>\n      <th>3</th>\n      <td>1</td>\n      <td>Toy Story (1995)</td>\n      <td>Adventure|Animation|Children|Comedy|Fantasy</td>\n      <td>15</td>\n      <td>2.5</td>\n      <td>1510577970</td>\n      <td></td>\n    </tr>\n    <tr>\n      <th>4</th>\n      <td>1</td>\n      <td>Toy Story (1995)</td>\n      <td>Adventure|Animation|Children|Comedy|Fantasy</td>\n      <td>17</td>\n      <td>4.5</td>\n      <td>1305696483</td>\n      <td></td>\n    </tr>\n  </tbody>\n</table>\n</div>"
     },
     "metadata": {},
     "execution_count": 6
    }
   ],
   "source": [
    "movie_ratings.head()"
   ]
  },
  {
   "cell_type": "code",
   "execution_count": 2,
   "metadata": {},
   "outputs": [],
   "source": [
    "from itertools import permutations\n",
    "\n",
    "# create a function that makes combinations of the movies a user (x) reviewed\n",
    "def create_combinations(x):\n",
    "    combinations = pd.DataFrame(list(permutations(x.values, 2)), columns=['movie_a', 'movie_b'])\n",
    "    return combinations"
   ]
  },
  {
   "cell_type": "code",
   "execution_count": 3,
   "metadata": {},
   "outputs": [
    {
     "output_type": "execute_result",
     "data": {
      "text/plain": [
       "   movieId             title                                       genres  \\\n",
       "1        1  Toy Story (1995)  Adventure|Animation|Children|Comedy|Fantasy   \n",
       "2        1  Toy Story (1995)  Adventure|Animation|Children|Comedy|Fantasy   \n",
       "3        1  Toy Story (1995)  Adventure|Animation|Children|Comedy|Fantasy   \n",
       "4        1  Toy Story (1995)  Adventure|Animation|Children|Comedy|Fantasy   \n",
       "5        1  Toy Story (1995)  Adventure|Animation|Children|Comedy|Fantasy   \n",
       "\n",
       "   userId  rating   timestamp  \n",
       "1       5     4.0   847434962  \n",
       "2       7     4.5  1106635946  \n",
       "3      15     2.5  1510577970  \n",
       "4      17     4.5  1305696483  \n",
       "5      18     3.5  1455209816  "
      ],
      "text/html": "<div>\n<style scoped>\n    .dataframe tbody tr th:only-of-type {\n        vertical-align: middle;\n    }\n\n    .dataframe tbody tr th {\n        vertical-align: top;\n    }\n\n    .dataframe thead th {\n        text-align: right;\n    }\n</style>\n<table border=\"1\" class=\"dataframe\">\n  <thead>\n    <tr style=\"text-align: right;\">\n      <th></th>\n      <th>movieId</th>\n      <th>title</th>\n      <th>genres</th>\n      <th>userId</th>\n      <th>rating</th>\n      <th>timestamp</th>\n    </tr>\n  </thead>\n  <tbody>\n    <tr>\n      <th>1</th>\n      <td>1</td>\n      <td>Toy Story (1995)</td>\n      <td>Adventure|Animation|Children|Comedy|Fantasy</td>\n      <td>5</td>\n      <td>4.0</td>\n      <td>847434962</td>\n    </tr>\n    <tr>\n      <th>2</th>\n      <td>1</td>\n      <td>Toy Story (1995)</td>\n      <td>Adventure|Animation|Children|Comedy|Fantasy</td>\n      <td>7</td>\n      <td>4.5</td>\n      <td>1106635946</td>\n    </tr>\n    <tr>\n      <th>3</th>\n      <td>1</td>\n      <td>Toy Story (1995)</td>\n      <td>Adventure|Animation|Children|Comedy|Fantasy</td>\n      <td>15</td>\n      <td>2.5</td>\n      <td>1510577970</td>\n    </tr>\n    <tr>\n      <th>4</th>\n      <td>1</td>\n      <td>Toy Story (1995)</td>\n      <td>Adventure|Animation|Children|Comedy|Fantasy</td>\n      <td>17</td>\n      <td>4.5</td>\n      <td>1305696483</td>\n    </tr>\n    <tr>\n      <th>5</th>\n      <td>1</td>\n      <td>Toy Story (1995)</td>\n      <td>Adventure|Animation|Children|Comedy|Fantasy</td>\n      <td>18</td>\n      <td>3.5</td>\n      <td>1455209816</td>\n    </tr>\n  </tbody>\n</table>\n</div>"
     },
     "metadata": {},
     "execution_count": 3
    }
   ],
   "source": [
    "# search for users that have more than a certain amount of reviews\n",
    "avg_user = movie_ratings.groupby(['userId']).size().reset_index(name='counts')\n",
    "avg_user = avg_user.set_index('userId')\n",
    "avg_user = avg_user[avg_user['counts'] > 20]\n",
    "avg_user_idx = avg_user.index\n",
    "\n",
    "# make a smaller selection\n",
    "smaller_selection = movie_ratings.iloc[avg_user_idx]\n",
    "smaller_selection.head()"
   ]
  },
  {
   "cell_type": "code",
   "execution_count": 4,
   "metadata": {},
   "outputs": [
    {
     "output_type": "execute_result",
     "data": {
      "text/plain": [
       "(596, 6)"
      ]
     },
     "metadata": {},
     "execution_count": 4
    }
   ],
   "source": [
    "smaller_selection.shape"
   ]
  },
  {
   "cell_type": "code",
   "execution_count": 5,
   "metadata": {},
   "outputs": [
    {
     "output_type": "execute_result",
     "data": {
      "text/plain": [
       "                          movie_a                             movie_b\n",
       "userId                                                               \n",
       "1      0  Grumpier Old Men (1995)                         Heat (1995)\n",
       "       1              Heat (1995)             Grumpier Old Men (1995)\n",
       "6      0           Jumanji (1995)             Grumpier Old Men (1995)\n",
       "       1           Jumanji (1995)            Waiting to Exhale (1995)\n",
       "       2           Jumanji (1995)  Father of the Bride Part II (1995)"
      ],
      "text/html": "<div>\n<style scoped>\n    .dataframe tbody tr th:only-of-type {\n        vertical-align: middle;\n    }\n\n    .dataframe tbody tr th {\n        vertical-align: top;\n    }\n\n    .dataframe thead th {\n        text-align: right;\n    }\n</style>\n<table border=\"1\" class=\"dataframe\">\n  <thead>\n    <tr style=\"text-align: right;\">\n      <th></th>\n      <th></th>\n      <th>movie_a</th>\n      <th>movie_b</th>\n    </tr>\n    <tr>\n      <th>userId</th>\n      <th></th>\n      <th></th>\n      <th></th>\n    </tr>\n  </thead>\n  <tbody>\n    <tr>\n      <th rowspan=\"2\" valign=\"top\">1</th>\n      <th>0</th>\n      <td>Grumpier Old Men (1995)</td>\n      <td>Heat (1995)</td>\n    </tr>\n    <tr>\n      <th>1</th>\n      <td>Heat (1995)</td>\n      <td>Grumpier Old Men (1995)</td>\n    </tr>\n    <tr>\n      <th rowspan=\"3\" valign=\"top\">6</th>\n      <th>0</th>\n      <td>Jumanji (1995)</td>\n      <td>Grumpier Old Men (1995)</td>\n    </tr>\n    <tr>\n      <th>1</th>\n      <td>Jumanji (1995)</td>\n      <td>Waiting to Exhale (1995)</td>\n    </tr>\n    <tr>\n      <th>2</th>\n      <td>Jumanji (1995)</td>\n      <td>Father of the Bride Part II (1995)</td>\n    </tr>\n  </tbody>\n</table>\n</div>"
     },
     "metadata": {},
     "execution_count": 5
    }
   ],
   "source": [
    "# use the create_combinations function\n",
    "movie_combinations = smaller_selection.groupby('userId')['title'].apply(create_combinations)\n",
    "movie_combinations.head()"
   ]
  },
  {
   "cell_type": "code",
   "execution_count": 6,
   "metadata": {},
   "outputs": [
    {
     "output_type": "execute_result",
     "data": {
      "text/plain": [
       "                               movie_a                  movie_b  size\n",
       "0   Father of the Bride Part II (1995)  Grumpier Old Men (1995)    18\n",
       "1   Father of the Bride Part II (1995)              Heat (1995)    22\n",
       "2   Father of the Bride Part II (1995)           Jumanji (1995)    20\n",
       "3   Father of the Bride Part II (1995)           Sabrina (1995)    20\n",
       "4   Father of the Bride Part II (1995)      Sudden Death (1995)     7\n",
       "..                                 ...                      ...   ...\n",
       "63            Waiting to Exhale (1995)              Heat (1995)     2\n",
       "64            Waiting to Exhale (1995)           Jumanji (1995)     2\n",
       "65            Waiting to Exhale (1995)           Sabrina (1995)     6\n",
       "66            Waiting to Exhale (1995)      Tom and Huck (1995)     1\n",
       "67            Waiting to Exhale (1995)         Toy Story (1995)     2\n",
       "\n",
       "[68 rows x 3 columns]"
      ],
      "text/html": "<div>\n<style scoped>\n    .dataframe tbody tr th:only-of-type {\n        vertical-align: middle;\n    }\n\n    .dataframe tbody tr th {\n        vertical-align: top;\n    }\n\n    .dataframe thead th {\n        text-align: right;\n    }\n</style>\n<table border=\"1\" class=\"dataframe\">\n  <thead>\n    <tr style=\"text-align: right;\">\n      <th></th>\n      <th>movie_a</th>\n      <th>movie_b</th>\n      <th>size</th>\n    </tr>\n  </thead>\n  <tbody>\n    <tr>\n      <th>0</th>\n      <td>Father of the Bride Part II (1995)</td>\n      <td>Grumpier Old Men (1995)</td>\n      <td>18</td>\n    </tr>\n    <tr>\n      <th>1</th>\n      <td>Father of the Bride Part II (1995)</td>\n      <td>Heat (1995)</td>\n      <td>22</td>\n    </tr>\n    <tr>\n      <th>2</th>\n      <td>Father of the Bride Part II (1995)</td>\n      <td>Jumanji (1995)</td>\n      <td>20</td>\n    </tr>\n    <tr>\n      <th>3</th>\n      <td>Father of the Bride Part II (1995)</td>\n      <td>Sabrina (1995)</td>\n      <td>20</td>\n    </tr>\n    <tr>\n      <th>4</th>\n      <td>Father of the Bride Part II (1995)</td>\n      <td>Sudden Death (1995)</td>\n      <td>7</td>\n    </tr>\n    <tr>\n      <th>...</th>\n      <td>...</td>\n      <td>...</td>\n      <td>...</td>\n    </tr>\n    <tr>\n      <th>63</th>\n      <td>Waiting to Exhale (1995)</td>\n      <td>Heat (1995)</td>\n      <td>2</td>\n    </tr>\n    <tr>\n      <th>64</th>\n      <td>Waiting to Exhale (1995)</td>\n      <td>Jumanji (1995)</td>\n      <td>2</td>\n    </tr>\n    <tr>\n      <th>65</th>\n      <td>Waiting to Exhale (1995)</td>\n      <td>Sabrina (1995)</td>\n      <td>6</td>\n    </tr>\n    <tr>\n      <th>66</th>\n      <td>Waiting to Exhale (1995)</td>\n      <td>Tom and Huck (1995)</td>\n      <td>1</td>\n    </tr>\n    <tr>\n      <th>67</th>\n      <td>Waiting to Exhale (1995)</td>\n      <td>Toy Story (1995)</td>\n      <td>2</td>\n    </tr>\n  </tbody>\n</table>\n<p>68 rows × 3 columns</p>\n</div>"
     },
     "metadata": {},
     "execution_count": 6
    }
   ],
   "source": [
    "# calculate the occurences of movie a and movie\n",
    "movie_combinations = movie_combinations.reset_index(drop=True)\n",
    "combi_count = movie_combinations.groupby(['movie_a', 'movie_b']).size()\n",
    "combi_count = combi_count.to_frame(name='size').reset_index()\n",
    "combi_count"
   ]
  },
  {
   "cell_type": "code",
   "execution_count": 7,
   "metadata": {},
   "outputs": [
    {
     "output_type": "execute_result",
     "data": {
      "text/plain": [
       "                    movie_a                             movie_b  size\n",
       "30           Jumanji (1995)                    Toy Story (1995)    63\n",
       "56         Toy Story (1995)                      Jumanji (1995)    63\n",
       "22              Heat (1995)                    Toy Story (1995)    54\n",
       "55         Toy Story (1995)                         Heat (1995)    54\n",
       "18              Heat (1995)                      Jumanji (1995)    36\n",
       "26           Jumanji (1995)                         Heat (1995)    36\n",
       "14  Grumpier Old Men (1995)                    Toy Story (1995)    31\n",
       "54         Toy Story (1995)             Grumpier Old Men (1995)    31\n",
       "53         Toy Story (1995)  Father of the Bride Part II (1995)    30\n",
       "38           Sabrina (1995)                    Toy Story (1995)    30"
      ],
      "text/html": "<div>\n<style scoped>\n    .dataframe tbody tr th:only-of-type {\n        vertical-align: middle;\n    }\n\n    .dataframe tbody tr th {\n        vertical-align: top;\n    }\n\n    .dataframe thead th {\n        text-align: right;\n    }\n</style>\n<table border=\"1\" class=\"dataframe\">\n  <thead>\n    <tr style=\"text-align: right;\">\n      <th></th>\n      <th>movie_a</th>\n      <th>movie_b</th>\n      <th>size</th>\n    </tr>\n  </thead>\n  <tbody>\n    <tr>\n      <th>30</th>\n      <td>Jumanji (1995)</td>\n      <td>Toy Story (1995)</td>\n      <td>63</td>\n    </tr>\n    <tr>\n      <th>56</th>\n      <td>Toy Story (1995)</td>\n      <td>Jumanji (1995)</td>\n      <td>63</td>\n    </tr>\n    <tr>\n      <th>22</th>\n      <td>Heat (1995)</td>\n      <td>Toy Story (1995)</td>\n      <td>54</td>\n    </tr>\n    <tr>\n      <th>55</th>\n      <td>Toy Story (1995)</td>\n      <td>Heat (1995)</td>\n      <td>54</td>\n    </tr>\n    <tr>\n      <th>18</th>\n      <td>Heat (1995)</td>\n      <td>Jumanji (1995)</td>\n      <td>36</td>\n    </tr>\n    <tr>\n      <th>26</th>\n      <td>Jumanji (1995)</td>\n      <td>Heat (1995)</td>\n      <td>36</td>\n    </tr>\n    <tr>\n      <th>14</th>\n      <td>Grumpier Old Men (1995)</td>\n      <td>Toy Story (1995)</td>\n      <td>31</td>\n    </tr>\n    <tr>\n      <th>54</th>\n      <td>Toy Story (1995)</td>\n      <td>Grumpier Old Men (1995)</td>\n      <td>31</td>\n    </tr>\n    <tr>\n      <th>53</th>\n      <td>Toy Story (1995)</td>\n      <td>Father of the Bride Part II (1995)</td>\n      <td>30</td>\n    </tr>\n    <tr>\n      <th>38</th>\n      <td>Sabrina (1995)</td>\n      <td>Toy Story (1995)</td>\n      <td>30</td>\n    </tr>\n  </tbody>\n</table>\n</div>"
     },
     "metadata": {},
     "execution_count": 7
    }
   ],
   "source": [
    "# sort\n",
    "combi_count = combi_count.sort_values('size', ascending=False)\n",
    "combi_count.head(10)"
   ]
  },
  {
   "cell_type": "code",
   "execution_count": 8,
   "metadata": {},
   "outputs": [
    {
     "output_type": "execute_result",
     "data": {
      "text/plain": [
       "             movie_a                             movie_b  size\n",
       "56  Toy Story (1995)                      Jumanji (1995)    63\n",
       "55  Toy Story (1995)                         Heat (1995)    54\n",
       "54  Toy Story (1995)             Grumpier Old Men (1995)    31\n",
       "53  Toy Story (1995)  Father of the Bride Part II (1995)    30\n",
       "57  Toy Story (1995)                      Sabrina (1995)    30\n",
       "58  Toy Story (1995)                 Sudden Death (1995)    10\n",
       "59  Toy Story (1995)                 Tom and Huck (1995)     4\n",
       "60  Toy Story (1995)            Waiting to Exhale (1995)     2"
      ],
      "text/html": "<div>\n<style scoped>\n    .dataframe tbody tr th:only-of-type {\n        vertical-align: middle;\n    }\n\n    .dataframe tbody tr th {\n        vertical-align: top;\n    }\n\n    .dataframe thead th {\n        text-align: right;\n    }\n</style>\n<table border=\"1\" class=\"dataframe\">\n  <thead>\n    <tr style=\"text-align: right;\">\n      <th></th>\n      <th>movie_a</th>\n      <th>movie_b</th>\n      <th>size</th>\n    </tr>\n  </thead>\n  <tbody>\n    <tr>\n      <th>56</th>\n      <td>Toy Story (1995)</td>\n      <td>Jumanji (1995)</td>\n      <td>63</td>\n    </tr>\n    <tr>\n      <th>55</th>\n      <td>Toy Story (1995)</td>\n      <td>Heat (1995)</td>\n      <td>54</td>\n    </tr>\n    <tr>\n      <th>54</th>\n      <td>Toy Story (1995)</td>\n      <td>Grumpier Old Men (1995)</td>\n      <td>31</td>\n    </tr>\n    <tr>\n      <th>53</th>\n      <td>Toy Story (1995)</td>\n      <td>Father of the Bride Part II (1995)</td>\n      <td>30</td>\n    </tr>\n    <tr>\n      <th>57</th>\n      <td>Toy Story (1995)</td>\n      <td>Sabrina (1995)</td>\n      <td>30</td>\n    </tr>\n    <tr>\n      <th>58</th>\n      <td>Toy Story (1995)</td>\n      <td>Sudden Death (1995)</td>\n      <td>10</td>\n    </tr>\n    <tr>\n      <th>59</th>\n      <td>Toy Story (1995)</td>\n      <td>Tom and Huck (1995)</td>\n      <td>4</td>\n    </tr>\n    <tr>\n      <th>60</th>\n      <td>Toy Story (1995)</td>\n      <td>Waiting to Exhale (1995)</td>\n      <td>2</td>\n    </tr>\n  </tbody>\n</table>\n</div>"
     },
     "metadata": {},
     "execution_count": 8
    }
   ],
   "source": [
    "# search for a specific movie\n",
    "combi_count[combi_count['movie_a'] == 'Toy Story (1995)'].head(10)"
   ]
  },
  {
   "cell_type": "code",
   "execution_count": null,
   "metadata": {},
   "outputs": [],
   "source": []
  }
 ]
}